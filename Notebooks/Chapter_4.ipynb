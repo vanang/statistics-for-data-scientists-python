{
 "cells": [
  {
   "cell_type": "markdown",
   "metadata": {},
   "source": [
    "# 회귀와 예측\n",
    "\n",
    "## 주 내용\n",
    "\n",
    "### Main Sub-titles\n",
    "\n",
    "1. 단순 선형 회귀\n",
    "2. 다중 선형 회귀\n",
    "3. 회귀를 이용한 예측\n",
    "4. 회귀에서의 요인변수(범주형 변수)\n",
    "5. 회귀방정식(모델) 해석하기\n",
    "6. 가정들을 검증하기: 회귀 진단\n",
    "7. 다항 회귀와 스플라인 회귀: 비선형 회귀 다루기\n",
    "\n",
    "### 들어가면서\n",
    "\n",
    "통계학에서 중요한 목표 중에 하나가 바로**예측**이다.  이것은 데이터 싸이언스나 머신러닝에서도 마찬가지이다.  제목과 같이 회귀는 데이터를 가지고 예측을 하기위한 방법중 하나이며, 한편으로 독립변수와 종속변수간의 관계를 탐색하는 데에도 중요한 실마리는 제공하는 방법이다.(물론 그 관계를 이용해서 예측을 하려고 하는 것이다.)\n",
    "\n",
    "이번 장에서는 여러 가지 회귀 모델과 해석/평가하는 방법에 대해서 다룬다.\n"
   ]
  },
  {
   "cell_type": "code",
   "execution_count": 104,
   "metadata": {},
   "outputs": [],
   "source": [
    "import pandas as pd\n",
    "import numpy as np\n",
    "import statsmodels.api as sm\n",
    "\n",
    "from sklearn.linear_model import LinearRegression\n",
    "from sklearn.metrics import mean_squared_error\n",
    "from sklearn.ensemble import RandomForestRegressor\n",
    "from sklearn.model_selection import GridSearchCV\n",
    "import matplotlib.pyplot as plt\n",
    "import warnings\n",
    "warnings.filterwarnings('ignore')\n",
    "\n",
    "%matplotlib inline"
   ]
  },
  {
   "cell_type": "markdown",
   "metadata": {},
   "source": [
    "## 1. 단순 선형 회귀\n",
    "* 단순 선형 회귀는 한 변수와 또 다른 변수의 크기 사이의 어떤 관계를 모델링한다. 1장에서 다룬 상관관계 역시 그 방법 중 하나이다.  \n",
    "\n",
    "* 상관관계는 두 변수 사이의 관련 강도를 측정이라면, 회귀는 관계 자체를 정량화 하는 것이다.\n",
    "\n",
    "* 기본적인 선형 회귀의 수식은 다음과 같다: $ Y_i = \\beta_0 + \\beta_1 X_i $\n",
    "\n",
    "    -  $ \\beta_0 $ 는 절편(Intercept, $b_0$)\n",
    "    -  $ \\beta_1 $ 는 회귀계수(기울기, Coefficent, Slope, $b_1$)\n",
    "    -  $ Y_i $ 는 응답변수, 종속변수, 적합값(Fitted value)\n",
    "    -  $ X_i $ 는 예측변수, 독립변수, 피처(Feature)"
   ]
  },
  {
   "cell_type": "code",
   "execution_count": 105,
   "metadata": {
    "collapsed": true
   },
   "outputs": [],
   "source": [
    "lung_data = pd.read_csv('../data/LungDisease.csv')"
   ]
  },
  {
   "cell_type": "code",
   "execution_count": 106,
   "metadata": {},
   "outputs": [
    {
     "data": {
      "image/png": "[encoded data removed]",
      "text/plain": [
       "<Figure size 432x288 with 1 Axes>"
      ]
     },
     "metadata": {
      "needs_background": "light"
     },
     "output_type": "display_data"
    }
   ],
   "source": [
    "plt.scatter(lung_data['Exposure'],lung_data['PEFR'])\n",
    "plt.xlabel('Exposure')\n",
    "plt.ylabel('PEFR')\n",
    "plt.show()"
   ]
  },
  {
   "cell_type": "markdown",
   "metadata": {},
   "source": [
    "* 위 그림에서 단순 선형 회귀의 목적은 Exposure(면진에 대한 노출)로 응답변수 PEFR(폐활량)을 예측하기 위한 최선의 직선을 찾는 것이다.\n",
    "  \n",
    "  PEFR = $ b_0 + b_1노출 $"
   ]
  },
  {
   "cell_type": "code",
   "execution_count": 107,
   "metadata": {
    "collapsed": true
   },
   "outputs": [],
   "source": [
    "# initializing the input variables\n",
    "\n",
    "X = np.array(lung_data['Exposure']).reshape(-1,1)\n",
    "y = np.array(lung_data['PEFR']).reshape(-1,1)\n",
    "\n",
    "# initiating the object for Linear Regression\n",
    "lin_reg = LinearRegression()"
   ]
  },
  {
   "cell_type": "code",
   "execution_count": 108,
   "metadata": {},
   "outputs": [
    {
     "data": {
      "image/png": "[encoded data removed]",
      "text/plain": [
       "<Figure size 432x288 with 1 Axes>"
      ]
     },
     "metadata": {
      "needs_background": "light"
     },
     "output_type": "display_data"
    },
    {
     "name": "stdout",
     "output_type": "stream",
     "text": [
      "-----------------------------------------------------\n",
      "\n",
      "The main variables in the linear regression are:\n",
      "\n",
      "The Coefficient(b1) : [[-4.18457649]]\n",
      "The Intercept(b0) : [424.58280657]\n"
     ]
    }
   ],
   "source": [
    "lin_reg.fit(X,y)\n",
    "predictions = lin_reg.predict( X )\n",
    "\n",
    "plt.scatter(lung_data['Exposure'], lung_data['PEFR'] )\n",
    "plt.plot(X,predictions)\n",
    "plt.xlabel('Exposure')\n",
    "plt.ylabel('PEFR')\n",
    "plt.title('Linear Regression Fitted Line')\n",
    "plt.show()\n",
    "\n",
    "print('-----------------------------------------------------\\n')\n",
    "\n",
    "print('The main variables in the linear regression are:\\n')\n",
    "print('The Coefficient(b1) :',lin_reg.coef_)\n",
    "print('The Intercept(b0) :',lin_reg.intercept_)"
   ]
  },
  {
   "cell_type": "code",
   "execution_count": 109,
   "metadata": {
    "collapsed": true
   },
   "outputs": [],
   "source": [
    "# The error of the model will be:\n",
    "# the idea is to reduce this error:\n",
    "\n",
    "res_error = predictions"
   ]
  },
  {
   "cell_type": "markdown",
   "metadata": {},
   "source": [
    "### 어떻게 $ b_0 $와 $ b_1 $을 찾을 수 있을까?\n",
    "\n",
    "* 회귀선은 잔차들을 제곱하여 합을 취한 값인 잔차제곱합(Residual Sum of Squares, RSS)를 최소화하는 선이다.\n",
    "  \n",
    "  $ RSS = \\displaystyle\\sum_{i=1}^n (Y_i - \\hat Y_i)^2 $ $ = \\displaystyle\\sum_{i=1}^n (Y_i - \\hat b_0 - \\hat b_1 X_i)^2 $\n",
    "  \n",
    "* 잔차제곱합을 최소화하는 방법을 최소제곱회귀 또는 보통최소제곱(Ordinary Least Squares, OLS)이라고 부른다.\n",
    "\n",
    "* 최소제공회귀는 회귀계수인 $ b_0 $와 $ b_1 $를 찾기 위해 아래와 같은 공식을 사용한다.\n",
    "\n",
    "  $ \\hat b_1 = \\frac{\\displaystyle\\sum_{i=1}^{n} (X_i – \\bar{X}) (Y_i – \\bar{Y})} {\\displaystyle\\sum_{i=1}^{n}(X_i – \\bar{X})^2} $ \n",
    "\n",
    "  $ \\hat b_0 = \\bar{Y} – \\hat b_1 \\bar{X} $\n",
    "\n",
    "  - $ \\bar{X} $는 예측변수의 대표값(평균)\n",
    "  - $ \\bar{Y} $는 응답변수의 대표값(평균)\n"
   ]
  },
  {
   "cell_type": "markdown",
   "metadata": {},
   "source": [
    "## 2. 다중 선형 회귀\n",
    "\n",
    "* 예측변수가 여러 개인 경우, 단순 선형 회귀로는 예측이 가능하지 않다.  회귀 방정식은 아래와 같이 여러 개의 예측변수를 포함하도록 해야한다. \n",
    "\n",
    "  $ Y = b_0 + b_1X_1 + b_2X_2 + ... + b_pX_p + e $\n",
    "  \n",
    "* 이 회귀 모델은 직선은 아니겠지만, 각 예측변수와 계수간의 관계를 여전히 선형 모형이 된다.\n",
    "\n",
    "### 2.1 킹카운티 주택 정보 예제\n",
    "\n",
    "* 주어진 변수로부터 판매 금액을 예측하는 것이 목표이다.\n"
   ]
  },
  {
   "cell_type": "code",
   "execution_count": 110,
   "metadata": {
    "collapsed": true
   },
   "outputs": [
    {
     "data": {
      "text/html": [
       "<div>\n",
       "<style scoped>\n",
       "    .dataframe tbody tr th:only-of-type {\n",
       "        vertical-align: middle;\n",
       "    }\n",
       "\n",
       "    .dataframe tbody tr th {\n",
       "        vertical-align: top;\n",
       "    }\n",
       "\n",
       "    .dataframe thead th {\n",
       "        text-align: right;\n",
       "    }\n",
       "</style>\n",
       "<table border=\"1\" class=\"dataframe\">\n",
       "  <thead>\n",
       "    <tr style=\"text-align: right;\">\n",
       "      <th></th>\n",
       "      <th>DocumentDate</th>\n",
       "      <th>SalePrice</th>\n",
       "      <th>PropertyID</th>\n",
       "      <th>PropertyType</th>\n",
       "      <th>ym</th>\n",
       "      <th>zhvi_px</th>\n",
       "      <th>zhvi_idx</th>\n",
       "      <th>AdjSalePrice</th>\n",
       "      <th>NbrLivingUnits</th>\n",
       "      <th>SqFtLot</th>\n",
       "      <th>...</th>\n",
       "      <th>Bathrooms</th>\n",
       "      <th>Bedrooms</th>\n",
       "      <th>BldgGrade</th>\n",
       "      <th>YrBuilt</th>\n",
       "      <th>YrRenovated</th>\n",
       "      <th>TrafficNoise</th>\n",
       "      <th>LandVal</th>\n",
       "      <th>ImpsVal</th>\n",
       "      <th>ZipCode</th>\n",
       "      <th>NewConstruction</th>\n",
       "    </tr>\n",
       "  </thead>\n",
       "  <tbody>\n",
       "    <tr>\n",
       "      <th>1</th>\n",
       "      <td>2014-09-16</td>\n",
       "      <td>280000</td>\n",
       "      <td>1000102</td>\n",
       "      <td>Multiplex</td>\n",
       "      <td>2014-09-01</td>\n",
       "      <td>405100</td>\n",
       "      <td>0.930836</td>\n",
       "      <td>300805.0</td>\n",
       "      <td>2</td>\n",
       "      <td>9373</td>\n",
       "      <td>...</td>\n",
       "      <td>3.00</td>\n",
       "      <td>6</td>\n",
       "      <td>7</td>\n",
       "      <td>1991</td>\n",
       "      <td>0</td>\n",
       "      <td>0</td>\n",
       "      <td>70000</td>\n",
       "      <td>229000</td>\n",
       "      <td>98002</td>\n",
       "      <td>False</td>\n",
       "    </tr>\n",
       "    <tr>\n",
       "      <th>2</th>\n",
       "      <td>2006-06-16</td>\n",
       "      <td>1000000</td>\n",
       "      <td>1200013</td>\n",
       "      <td>Single Family</td>\n",
       "      <td>2006-06-01</td>\n",
       "      <td>404400</td>\n",
       "      <td>0.929228</td>\n",
       "      <td>1076162.0</td>\n",
       "      <td>1</td>\n",
       "      <td>20156</td>\n",
       "      <td>...</td>\n",
       "      <td>3.75</td>\n",
       "      <td>4</td>\n",
       "      <td>10</td>\n",
       "      <td>2005</td>\n",
       "      <td>0</td>\n",
       "      <td>0</td>\n",
       "      <td>203000</td>\n",
       "      <td>590000</td>\n",
       "      <td>98166</td>\n",
       "      <td>True</td>\n",
       "    </tr>\n",
       "    <tr>\n",
       "      <th>3</th>\n",
       "      <td>2007-01-29</td>\n",
       "      <td>745000</td>\n",
       "      <td>1200019</td>\n",
       "      <td>Single Family</td>\n",
       "      <td>2007-01-01</td>\n",
       "      <td>425600</td>\n",
       "      <td>0.977941</td>\n",
       "      <td>761805.0</td>\n",
       "      <td>1</td>\n",
       "      <td>26036</td>\n",
       "      <td>...</td>\n",
       "      <td>1.75</td>\n",
       "      <td>4</td>\n",
       "      <td>8</td>\n",
       "      <td>1947</td>\n",
       "      <td>0</td>\n",
       "      <td>0</td>\n",
       "      <td>183000</td>\n",
       "      <td>275000</td>\n",
       "      <td>98166</td>\n",
       "      <td>False</td>\n",
       "    </tr>\n",
       "    <tr>\n",
       "      <th>4</th>\n",
       "      <td>2008-02-25</td>\n",
       "      <td>425000</td>\n",
       "      <td>2800016</td>\n",
       "      <td>Single Family</td>\n",
       "      <td>2008-02-01</td>\n",
       "      <td>418400</td>\n",
       "      <td>0.961397</td>\n",
       "      <td>442065.0</td>\n",
       "      <td>1</td>\n",
       "      <td>8618</td>\n",
       "      <td>...</td>\n",
       "      <td>3.75</td>\n",
       "      <td>5</td>\n",
       "      <td>7</td>\n",
       "      <td>1966</td>\n",
       "      <td>0</td>\n",
       "      <td>0</td>\n",
       "      <td>104000</td>\n",
       "      <td>229000</td>\n",
       "      <td>98168</td>\n",
       "      <td>False</td>\n",
       "    </tr>\n",
       "    <tr>\n",
       "      <th>5</th>\n",
       "      <td>2013-03-29</td>\n",
       "      <td>240000</td>\n",
       "      <td>2800024</td>\n",
       "      <td>Single Family</td>\n",
       "      <td>2013-03-01</td>\n",
       "      <td>351600</td>\n",
       "      <td>0.807904</td>\n",
       "      <td>297065.0</td>\n",
       "      <td>1</td>\n",
       "      <td>8620</td>\n",
       "      <td>...</td>\n",
       "      <td>1.75</td>\n",
       "      <td>4</td>\n",
       "      <td>7</td>\n",
       "      <td>1948</td>\n",
       "      <td>0</td>\n",
       "      <td>0</td>\n",
       "      <td>104000</td>\n",
       "      <td>205000</td>\n",
       "      <td>98168</td>\n",
       "      <td>False</td>\n",
       "    </tr>\n",
       "  </tbody>\n",
       "</table>\n",
       "<p>5 rows × 22 columns</p>\n",
       "</div>"
      ],
      "text/plain": [
       "  DocumentDate  SalePrice  PropertyID   PropertyType          ym  zhvi_px  \\\n",
       "1   2014-09-16     280000     1000102      Multiplex  2014-09-01   405100   \n",
       "2   2006-06-16    1000000     1200013  Single Family  2006-06-01   404400   \n",
       "3   2007-01-29     745000     1200019  Single Family  2007-01-01   425600   \n",
       "4   2008-02-25     425000     2800016  Single Family  2008-02-01   418400   \n",
       "5   2013-03-29     240000     2800024  Single Family  2013-03-01   351600   \n",
       "\n",
       "   zhvi_idx  AdjSalePrice  NbrLivingUnits  SqFtLot       ...         \\\n",
       "1  0.930836      300805.0               2     9373       ...          \n",
       "2  0.929228     1076162.0               1    20156       ...          \n",
       "3  0.977941      761805.0               1    26036       ...          \n",
       "4  0.961397      442065.0               1     8618       ...          \n",
       "5  0.807904      297065.0               1     8620       ...          \n",
       "\n",
       "   Bathrooms  Bedrooms  BldgGrade  YrBuilt  YrRenovated  TrafficNoise  \\\n",
       "1       3.00         6          7     1991            0             0   \n",
       "2       3.75         4         10     2005            0             0   \n",
       "3       1.75         4          8     1947            0             0   \n",
       "4       3.75         5          7     1966            0             0   \n",
       "5       1.75         4          7     1948            0             0   \n",
       "\n",
       "   LandVal  ImpsVal  ZipCode  NewConstruction  \n",
       "1    70000   229000    98002            False  \n",
       "2   203000   590000    98166             True  \n",
       "3   183000   275000    98166            False  \n",
       "4   104000   229000    98168            False  \n",
       "5   104000   205000    98168            False  \n",
       "\n",
       "[5 rows x 22 columns]"
      ]
     },
     "execution_count": 110,
     "metadata": {},
     "output_type": "execute_result"
    }
   ],
   "source": [
    "house_data = pd.read_csv('../data/house_sales.csv',sep='\\t')\n",
    "house_data.head()"
   ]
  },
  {
   "cell_type": "code",
   "execution_count": 111,
   "metadata": {},
   "outputs": [
    {
     "name": "stdout",
     "output_type": "stream",
     "text": [
      "Error of Simple Linear Regression Model is : 381769.33881840616\n"
     ]
    }
   ],
   "source": [
    "# Simple Linear Regression\n",
    "X = np.array(house_data['SqFtLot']).reshape(-1,1)\n",
    "y = np.array(house_data['AdjSalePrice']).reshape(-1,1)\n",
    "\n",
    "lin_reg.fit(X,y)\n",
    "\n",
    "predictions_simple_linear_regression = lin_reg.predict(X)\n",
    "\n",
    "print('Error of Simple Linear Regression Model is :',mean_squared_error(predictions_simple_linear_regression,y)**(0.5))"
   ]
  },
  {
   "cell_type": "code",
   "execution_count": 112,
   "metadata": {},
   "outputs": [
    {
     "name": "stdout",
     "output_type": "stream",
     "text": [
      "Error of Multiple Linear Regression Model is : 261209.6915601493\n"
     ]
    }
   ],
   "source": [
    "# Multiple Linear Regression\n",
    "features = ['SqFtLot','SqFtTotLiving','Bathrooms','Bedrooms','BldgGrade']\n",
    "X = np.array(house_data[features])\n",
    "y = np.array(house_data['AdjSalePrice']).reshape(-1,1)\n",
    "\n",
    "lin_reg.fit(X,y)\n",
    "\n",
    "predictions_multiple_linear_regression = lin_reg.predict(X)\n",
    "\n",
    "print('Error of Multiple Linear Regression Model is :',mean_squared_error(predictions_multiple_linear_regression,y)**(0.5))"
   ]
  },
  {
   "cell_type": "code",
   "execution_count": 113,
   "metadata": {},
   "outputs": [
    {
     "data": {
      "text/html": [
       "<div>\n",
       "<style scoped>\n",
       "    .dataframe tbody tr th:only-of-type {\n",
       "        vertical-align: middle;\n",
       "    }\n",
       "\n",
       "    .dataframe tbody tr th {\n",
       "        vertical-align: top;\n",
       "    }\n",
       "\n",
       "    .dataframe thead th {\n",
       "        text-align: right;\n",
       "    }\n",
       "</style>\n",
       "<table border=\"1\" class=\"dataframe\">\n",
       "  <thead>\n",
       "    <tr style=\"text-align: right;\">\n",
       "      <th></th>\n",
       "      <th>SqFtLot</th>\n",
       "      <th>SqFtTotLiving</th>\n",
       "      <th>Bathrooms</th>\n",
       "      <th>Bedrooms</th>\n",
       "      <th>BldgGrade</th>\n",
       "    </tr>\n",
       "  </thead>\n",
       "  <tbody>\n",
       "    <tr>\n",
       "      <th>1</th>\n",
       "      <td>9373</td>\n",
       "      <td>2400</td>\n",
       "      <td>3.00</td>\n",
       "      <td>6</td>\n",
       "      <td>7</td>\n",
       "    </tr>\n",
       "    <tr>\n",
       "      <th>2</th>\n",
       "      <td>20156</td>\n",
       "      <td>3764</td>\n",
       "      <td>3.75</td>\n",
       "      <td>4</td>\n",
       "      <td>10</td>\n",
       "    </tr>\n",
       "    <tr>\n",
       "      <th>3</th>\n",
       "      <td>26036</td>\n",
       "      <td>2060</td>\n",
       "      <td>1.75</td>\n",
       "      <td>4</td>\n",
       "      <td>8</td>\n",
       "    </tr>\n",
       "    <tr>\n",
       "      <th>4</th>\n",
       "      <td>8618</td>\n",
       "      <td>3200</td>\n",
       "      <td>3.75</td>\n",
       "      <td>5</td>\n",
       "      <td>7</td>\n",
       "    </tr>\n",
       "    <tr>\n",
       "      <th>5</th>\n",
       "      <td>8620</td>\n",
       "      <td>1720</td>\n",
       "      <td>1.75</td>\n",
       "      <td>4</td>\n",
       "      <td>7</td>\n",
       "    </tr>\n",
       "  </tbody>\n",
       "</table>\n",
       "</div>"
      ],
      "text/plain": [
       "   SqFtLot  SqFtTotLiving  Bathrooms  Bedrooms  BldgGrade\n",
       "1     9373           2400       3.00         6          7\n",
       "2    20156           3764       3.75         4         10\n",
       "3    26036           2060       1.75         4          8\n",
       "4     8618           3200       3.75         5          7\n",
       "5     8620           1720       1.75         4          7"
      ]
     },
     "execution_count": 113,
     "metadata": {},
     "output_type": "execute_result"
    }
   ],
   "source": [
    "house_data[features].head(5)"
   ]
  },
  {
   "cell_type": "code",
   "execution_count": 114,
   "metadata": {
    "collapsed": true
   },
   "outputs": [
    {
     "name": "stdout",
     "output_type": "stream",
     "text": [
      "Intercept : -521924.722038\n",
      "SqFtLot : -6.050601e-02\n",
      "SqFtTotLiving : 2.288321e+02\n",
      "Bathrooms : -1.943810e+04\n",
      "Bedrooms : -4.778115e+04\n",
      "BldgGrade : 1.061172e+05\n"
     ]
    }
   ],
   "source": [
    "# Printing coefficients of the Multiple Linear Regression\n",
    "print('Intercept : %f'%lin_reg.intercept_) \n",
    "for idx in range(0, len(features)):\n",
    "    print(features[idx] + ' : %e'%lin_reg.coef_[0][idx])"
   ]
  },
  {
   "cell_type": "markdown",
   "metadata": {},
   "source": [
    "#### 모델에 대한 Coefficient 읽기\n",
    "* SqFtTotLiving: 229 --> 1제곱피트가 증가되면, 예상가격은 229달러 증가할 것이다."
   ]
  },
  {
   "cell_type": "markdown",
   "metadata": {},
   "source": [
    "### 2.2 모델 평가하기\n",
    "* **제곱근 평균 제곱 오차(Root Mean Square Error, RMSE)** 이 일반적으로 평가할 수 있는 방법이다.\n",
    "\n",
    "  $ RMSE = \\sqrt { \\displaystyle\\sum_{i=1}^n (y_i - \\hat y_i)^2 \\over n } $\n",
    "  \n",
    "* 이와 유사한 **잔차 표준 오차(Residual Standard Error, RSE)** 도 있다. RMSE와의 차이점은 자유도를 고려($ p - 1 $)한 것이다.\n",
    "\n",
    "  빅데이터인 경우 둘 간의 차이는 거의 없다고 보면 된다. (n이 매우 크기 때문)\n",
    "\n",
    "  $ \\displaystyle RSE = \\sqrt { \\displaystyle\\sum_{i=1}^n (y_i - \\hat y_i)^2 \\over (n - p - 1) } $ , $ p $는 예측변수 개수\n",
    "  \n",
    "\n",
    "* **결정계수(R제곱 통계량, $ R^2 $)** 은 모델이 주어진 데이터에 얼마나 Fitting 되었는지를 보여준다. (의미적으로 **정확도**에 가깝다.) 0 ~ 1 사이의 값으로 사용되며, 1이될 수록 모델(회귀방정식)의 예측이 정확하다는 의미이다.\n",
    "\n",
    "  $ R^2 = 1 - { {\\displaystyle\\sum_{i=1}^n ( y_i - \\hat y_i)^2} \\over {\\displaystyle\\sum_{i=1}^n ( y_i - \\bar y_i)^2}} $\n",
    "  \n",
    "  수정 $ R^2 $는 자유도를 고려하여 수정된 결정 계수로 다중 회귀 분석에서는 크게 달라지지 않는다.  회귀식의 정확도가 애매한 경우 예를들어 0.4 또는 0.5인 경우 결정계수의 정확도로 판단이 어렵기 때문에 추가적인 지표나 가설검정과 같은 수단을 통해 결정할 수 있다.\n",
    "  \n",
    "* **t 통계량** 이 높을 수록 그 에측변수는 유의미하다고 해석하면 된다. (또는 p값이 낮을수록)  \n",
    "\n",
    "  $ \\displaystyle t_k = {\\hat b \\over SE (\\hat b) } $\n"
   ]
  },
  {
   "cell_type": "code",
   "execution_count": 115,
   "metadata": {},
   "outputs": [
    {
     "data": {
      "text/html": [
       "<table class=\"simpletable\">\n",
       "<caption>OLS Regression Results</caption>\n",
       "<tr>\n",
       "  <th>Dep. Variable:</th>      <td>AdjSalePrice</td>   <th>  R-squared:         </th>  <td>   0.541</td>  \n",
       "</tr>\n",
       "<tr>\n",
       "  <th>Model:</th>                   <td>OLS</td>       <th>  Adj. R-squared:    </th>  <td>   0.541</td>  \n",
       "</tr>\n",
       "<tr>\n",
       "  <th>Method:</th>             <td>Least Squares</td>  <th>  F-statistic:       </th>  <td>   5340.</td>  \n",
       "</tr>\n",
       "<tr>\n",
       "  <th>Date:</th>             <td>Wed, 13 Mar 2019</td> <th>  Prob (F-statistic):</th>   <td>  0.00</td>   \n",
       "</tr>\n",
       "<tr>\n",
       "  <th>Time:</th>                 <td>00:42:42</td>     <th>  Log-Likelihood:    </th> <td>-3.1520e+05</td>\n",
       "</tr>\n",
       "<tr>\n",
       "  <th>No. Observations:</th>      <td> 22689</td>      <th>  AIC:               </th>  <td>6.304e+05</td> \n",
       "</tr>\n",
       "<tr>\n",
       "  <th>Df Residuals:</th>          <td> 22683</td>      <th>  BIC:               </th>  <td>6.305e+05</td> \n",
       "</tr>\n",
       "<tr>\n",
       "  <th>Df Model:</th>              <td>     5</td>      <th>                     </th>      <td> </td>     \n",
       "</tr>\n",
       "<tr>\n",
       "  <th>Covariance Type:</th>      <td>nonrobust</td>    <th>                     </th>      <td> </td>     \n",
       "</tr>\n",
       "</table>\n",
       "<table class=\"simpletable\">\n",
       "<tr>\n",
       "        <td></td>           <th>coef</th>     <th>std err</th>      <th>t</th>      <th>P>|t|</th>  <th>[0.025</th>    <th>0.975]</th>  \n",
       "</tr>\n",
       "<tr>\n",
       "  <th>Intercept</th>     <td>-5.219e+05</td> <td> 1.57e+04</td> <td>  -33.349</td> <td> 0.000</td> <td>-5.53e+05</td> <td>-4.91e+05</td>\n",
       "</tr>\n",
       "<tr>\n",
       "  <th>SqFtLot</th>       <td>   -0.0605</td> <td>    0.061</td> <td>   -0.989</td> <td> 0.323</td> <td>   -0.180</td> <td>    0.059</td>\n",
       "</tr>\n",
       "<tr>\n",
       "  <th>SqFtTotLiving</th> <td>  228.8321</td> <td>    3.898</td> <td>   58.699</td> <td> 0.000</td> <td>  221.191</td> <td>  236.473</td>\n",
       "</tr>\n",
       "<tr>\n",
       "  <th>Bathrooms</th>     <td>-1.944e+04</td> <td> 3625.219</td> <td>   -5.362</td> <td> 0.000</td> <td>-2.65e+04</td> <td>-1.23e+04</td>\n",
       "</tr>\n",
       "<tr>\n",
       "  <th>Bedrooms</th>      <td>-4.778e+04</td> <td> 2489.443</td> <td>  -19.194</td> <td> 0.000</td> <td>-5.27e+04</td> <td>-4.29e+04</td>\n",
       "</tr>\n",
       "<tr>\n",
       "  <th>BldgGrade</th>     <td> 1.061e+05</td> <td> 2396.136</td> <td>   44.287</td> <td> 0.000</td> <td> 1.01e+05</td> <td> 1.11e+05</td>\n",
       "</tr>\n",
       "</table>\n",
       "<table class=\"simpletable\">\n",
       "<tr>\n",
       "  <th>Omnibus:</th>       <td>29679.186</td> <th>  Durbin-Watson:     </th>   <td>   1.247</td>  \n",
       "</tr>\n",
       "<tr>\n",
       "  <th>Prob(Omnibus):</th>  <td> 0.000</td>   <th>  Jarque-Bera (JB):  </th> <td>19394127.212</td>\n",
       "</tr>\n",
       "<tr>\n",
       "  <th>Skew:</th>           <td> 6.889</td>   <th>  Prob(JB):          </th>   <td>    0.00</td>  \n",
       "</tr>\n",
       "<tr>\n",
       "  <th>Kurtosis:</th>       <td>145.565</td>  <th>  Cond. No.          </th>   <td>2.86e+05</td>  \n",
       "</tr>\n",
       "</table><br/><br/>Warnings:<br/>[1] Standard Errors assume that the covariance matrix of the errors is correctly specified.<br/>[2] The condition number is large, 2.86e+05. This might indicate that there are<br/>strong multicollinearity or other numerical problems."
      ],
      "text/plain": [
       "<class 'statsmodels.iolib.summary.Summary'>\n",
       "\"\"\"\n",
       "                            OLS Regression Results                            \n",
       "==============================================================================\n",
       "Dep. Variable:           AdjSalePrice   R-squared:                       0.541\n",
       "Model:                            OLS   Adj. R-squared:                  0.541\n",
       "Method:                 Least Squares   F-statistic:                     5340.\n",
       "Date:                Wed, 13 Mar 2019   Prob (F-statistic):               0.00\n",
       "Time:                        00:42:42   Log-Likelihood:            -3.1520e+05\n",
       "No. Observations:               22689   AIC:                         6.304e+05\n",
       "Df Residuals:                   22683   BIC:                         6.305e+05\n",
       "Df Model:                           5                                         \n",
       "Covariance Type:            nonrobust                                         \n",
       "=================================================================================\n",
       "                    coef    std err          t      P>|t|      [0.025      0.975]\n",
       "---------------------------------------------------------------------------------\n",
       "Intercept     -5.219e+05   1.57e+04    -33.349      0.000   -5.53e+05   -4.91e+05\n",
       "SqFtLot          -0.0605      0.061     -0.989      0.323      -0.180       0.059\n",
       "SqFtTotLiving   228.8321      3.898     58.699      0.000     221.191     236.473\n",
       "Bathrooms     -1.944e+04   3625.219     -5.362      0.000   -2.65e+04   -1.23e+04\n",
       "Bedrooms      -4.778e+04   2489.443    -19.194      0.000   -5.27e+04   -4.29e+04\n",
       "BldgGrade      1.061e+05   2396.136     44.287      0.000    1.01e+05    1.11e+05\n",
       "==============================================================================\n",
       "Omnibus:                    29679.186   Durbin-Watson:                   1.247\n",
       "Prob(Omnibus):                  0.000   Jarque-Bera (JB):         19394127.212\n",
       "Skew:                           6.889   Prob(JB):                         0.00\n",
       "Kurtosis:                     145.565   Cond. No.                     2.86e+05\n",
       "==============================================================================\n",
       "\n",
       "Warnings:\n",
       "[1] Standard Errors assume that the covariance matrix of the errors is correctly specified.\n",
       "[2] The condition number is large, 2.86e+05. This might indicate that there are\n",
       "strong multicollinearity or other numerical problems.\n",
       "\"\"\""
      ]
     },
     "execution_count": 115,
     "metadata": {},
     "output_type": "execute_result"
    }
   ],
   "source": [
    "features.append('AdjSalePrice')\n",
    "featured_house_data = house_data[features]\n",
    "result = sm.OLS.from_formula(formula='AdjSalePrice ~ SqFtLot + SqFtTotLiving + Bathrooms + Bedrooms + BldgGrade', data=featured_house_data).fit()\n",
    "features.remove('AdjSalePrice')\n",
    "result.summary()"
   ]
  },
  {
   "cell_type": "markdown",
   "metadata": {},
   "source": [
    "### 2.3 교차타당성검사(Cross-Validation, CV)\n",
    "\n",
    "* 홀드아웃(Hold-out)은 원래 주어졌던 데이터의 일부를 떼어놓고, 모델을 만든 후 모델의 성능을 확인하는 데 사용하기 위한 표본이다.\n",
    "\n",
    "* 데이터가 작다면, 작은 홀드아웃으로 인해 샘플의 변동성으로 인해 불확실성을 초래할 수 있다. 즉, 홀드아웃의 선택에 따라 모델의 성능 평가가 달라지게 된다.\n",
    "\n",
    "* 교차타당성검사는 여러 번의 훈련시 각기 다른 홀드아웃으로 평가 후, 최종 모델 평가 지표를 평균과 같은 방법으로 산출하는 방법이다.  홀드아웃이 모든 레코드를 커버하도록 수행한다."
   ]
  },
  {
   "cell_type": "markdown",
   "metadata": {},
   "source": [
    "### 2.4 모형 선택과 단계적 회귀\n",
    "\n",
    "* 많은 변수를 넣는 다고 좋은 모델을 얻을 수 있는 것은 아니다. 동일한 조건에서는 단순한 모델을 우선 사용하는 것이 좋다(오컴의 면도날).\n",
    "\n",
    "* 변수를 추가하면 일반적으로 **RMSE는 감소하고 결정계수$ R^2 $** 는 증가한다.  무조건 많은 변수를 추가할 수 있기 때문에 좋은 모델을 얻는데 도움이 되지 않을 수도 있다. (오버피팅)\n",
    "\n",
    "* AIC(Akaike's information criteria)는 모델에 항이 추가 될 수록 불이익을 주는 지표이다.\n",
    "\n",
    "  $ AIC = 2P + n log({RSS \\over n}) $, $P$는 변수의 개수, $n$은 레코드개수, $RSS$는 잔차제곱합\n",
    "\n",
    "* AIC 지표를 활용하여, 부분집합회귀(All Subset Regression) 방법을 최적의 모델을 찾을 수도 있다.  그러나, 비용이 비싸고, 변수가 많은 경우 부분집합수가 기하급수적으로 늘 수 있다.\n",
    "\n",
    "* 대안으로 단계적회귀(Stepwise Regression)을 사용할 수 있다.  단계적회귀에서는 변수를 추가/삭제하면서 AIC가 최소화되는 모델을 찾을 수 있다.  \n",
    " * 전진선택(Forward Selection): 변수없이 시작하여 $R^2$에 기여도가 큰 변수를 하나씩 추가해가면서 기여도가 유의미 하지 않을 때 까지 진행.\n",
    " * 후진제거(Backward Selection): 전체 변수에서 시작하여 유의미한 모델이 될때까지, 기여도가 없는 변수를 제거해나가는 반식.\n",
    " * 벌점회쉬(Penalized Selection): AIC와 개념적으로 유사. 차이점은 변수를 완전히 제거하는 것이 아니라 변수의 계수의 가중치를 감소시키거나 0으로 만든다. (Regularization 개념)\n"
   ]
  },
  {
   "cell_type": "markdown",
   "metadata": {},
   "source": [
    "### 2.5 가중회귀\n",
    "\n",
    "* 특정한 조건의 레코드에 대해 가중치를 부여하는 회귀 방식이다.\n",
    "\n",
    "* 예를 들어, 주택 가격 데이터에서 오래된 매매 정보일수록 신뢰하기 어렵기때문에, 회귀모델에 낮은 가중치를 갖도록 하는 것이 좋다.  "
   ]
  },
  {
   "cell_type": "code",
   "execution_count": 116,
   "metadata": {},
   "outputs": [
    {
     "name": "stdout",
     "output_type": "stream",
     "text": [
      "Error of Weighted Linear Regression Model is : 261897.6198036601\n"
     ]
    }
   ],
   "source": [
    "# creating weighted features\n",
    "\n",
    "# initiating the object for Linear Regression\n",
    "wlin_reg = LinearRegression()\n",
    "\n",
    "#Transform YYYY-MM-DD datetime to YYYY date and calculate weights based on 2005\n",
    "weighted_house_year = pd.to_datetime(house_data['DocumentDate'])\n",
    "weighted_house_year = weighted_house_year.apply(lambda x: x.strftime('%Y')).astype(int)\n",
    "weighted_house_year = weighted_house_year - 2005\n",
    "\n",
    "weighted_features = ['SqFtTotLiving', 'SqFtLot', 'Bathrooms', 'Bedrooms', 'BldgGrade']\n",
    "\n",
    "X = np.array(house_data[weighted_features])\n",
    "y = np.array(house_data['AdjSalePrice']).reshape(-1,1)\n",
    "\n",
    "wlin_reg.fit(X,y, sample_weight=weighted_house_year)\n",
    "\n",
    "predictions_weighted_linear_regression = wlin_reg.predict(X)\n",
    "\n",
    "print('Error of Weighted Linear Regression Model is :',mean_squared_error(predictions_weighted_linear_regression,y)**(0.5))\n"
   ]
  },
  {
   "cell_type": "code",
   "execution_count": 117,
   "metadata": {},
   "outputs": [
    {
     "name": "stdout",
     "output_type": "stream",
     "text": [
      "Intercept : -521924.722038\n",
      "SqFtTotLiving : 2.450173e+02\n",
      "SqFtLot : -2.924287e-01\n",
      "Bathrooms : -2.607917e+04\n",
      "Bedrooms : -5.362540e+04\n",
      "BldgGrade : 1.152590e+05\n"
     ]
    }
   ],
   "source": [
    "# Printing coefficients of the Weighted Linear Regression\n",
    "print('Intercept : %f'%lin_reg.intercept_) \n",
    "for idx in range(0, len(weighted_features)):\n",
    "    print(weighted_features[idx] + ' : %e'%wlin_reg.coef_[0][idx])"
   ]
  },
  {
   "cell_type": "markdown",
   "metadata": {},
   "source": [
    "## 3. 회귀를 이용한 예측\n",
    "\n",
    "* 회귀모델을 이용하여 예측시, 학습한 데이터 범위를 초과(Extrapolation)하면서까지 사용하는 것은 황당한 예측 결과를 초래할 수 있음을 명심해야 한다.\n",
    "\n",
    "* 회귀를 이용한 예측에서 예측값의 불확실성은 회귀 모델 계수의 불확실성, 개발 데이터 값에 존재하는 오류에서 기인한다.  신뢰구간과 예측구간이 이를 정량화하는 방법이다.\n",
    "\n",
    "### 3.1 신뢰구간과 예측구간\n",
    "\n",
    "* 일반적으로 다루는 회귀모델 신뢰구간은 계수에 대한 **신뢰구간**이다. 다음의 과정을 거쳐 계수에 대한 신뢰구간을 생성한다.\n",
    " 1. $n$개의 레코드를 준비한다.\n",
    " 2. 무작위 복원추출(표본추출후 다시 복원) 방식으로 $n$개의 레코드를 구성하여 부트스트랩 재표본을 하나 만든다.\n",
    " 3. 2의 재표본으로 회귀 모형을 만글고, 추정된 계수들을 기록한다.\n",
    " 4. 2-3 과정을 1000회 반복한다.\n",
    " 5. 각 계수가 1000개의 부트스트랩별 값을 갖게된다.  \n",
    " 6. 각 계수에 대해 백분위수와 신뢰구간을 구한다.(ex. 90%신뢰구간은 5~95 번째 백분위수)\n",
    "\n",
    "\n",
    "* 회귀계수의 **신뢰구간을 통해 불확실성을 정량화** 할 수 있다. (재표본별 회귀모델이 다르기 때문에, 동일한 레코드에 대해서 다른 예측을 할수 있다)\n",
    "\n",
    "* 예측구간은 **회귀 모델로부터 얻은 예측값에 대한 신뢰구간**이다.  동일한 값을 가진 데이터라 하더라도, 예측값이 달라질 수 있다.  이 예측값에 대한 신뢰구간 역시 부트스트랩을 통해 잔차를 구해 모델링할 수 있다.\n",
    " "
   ]
  },
  {
   "cell_type": "markdown",
   "metadata": {},
   "source": [
    "## 4. 회귀에서의 요인변수(범주형변수)\n",
    "\n",
    "* 범주형변수(Categorical Variable) 또는 요인변수(Factor Variable)는 개수가 제한된 이산값을 가진 데이터 종류이다. \n",
    "\n",
    "* 회귀분석은 수치형 데이터만을 입력값으로 받기 때문에 범주형 변수는 수치형으로 변경해야한다.\n",
    "\n",
    "### 4.1 원-핫 인코딩 (가변수 표현)\n",
    "\n",
    "* 범주의 개수 $p - 1$ 만큼 가변수(Dummy Variable)를 생성하여, 유무여부를 0/1로 해당 가변수에 표현하는 방법이다.\n",
    "\n",
    "* 범주개수만큼 가변수를 생성하면 다중공선성(Multilinearity?)가 발생할 수 있다."
   ]
  },
  {
   "cell_type": "code",
   "execution_count": 141,
   "metadata": {},
   "outputs": [
    {
     "data": {
      "text/plain": [
       "array(['Multiplex', 'Single Family', 'Townhouse'], dtype=object)"
      ]
     },
     "execution_count": 141,
     "metadata": {},
     "output_type": "execute_result"
    }
   ],
   "source": [
    "house_data.PropertyType.unique()"
   ]
  },
  {
   "cell_type": "code",
   "execution_count": 119,
   "metadata": {},
   "outputs": [
    {
     "data": {
      "text/html": [
       "<div>\n",
       "<style scoped>\n",
       "    .dataframe tbody tr th:only-of-type {\n",
       "        vertical-align: middle;\n",
       "    }\n",
       "\n",
       "    .dataframe tbody tr th {\n",
       "        vertical-align: top;\n",
       "    }\n",
       "\n",
       "    .dataframe thead th {\n",
       "        text-align: right;\n",
       "    }\n",
       "</style>\n",
       "<table border=\"1\" class=\"dataframe\">\n",
       "  <thead>\n",
       "    <tr style=\"text-align: right;\">\n",
       "      <th></th>\n",
       "      <th>DocumentDate</th>\n",
       "      <th>SalePrice</th>\n",
       "      <th>PropertyID</th>\n",
       "      <th>PropertyType</th>\n",
       "      <th>ym</th>\n",
       "      <th>zhvi_px</th>\n",
       "      <th>zhvi_idx</th>\n",
       "      <th>AdjSalePrice</th>\n",
       "      <th>NbrLivingUnits</th>\n",
       "      <th>SqFtLot</th>\n",
       "      <th>...</th>\n",
       "      <th>YrBuilt</th>\n",
       "      <th>YrRenovated</th>\n",
       "      <th>TrafficNoise</th>\n",
       "      <th>LandVal</th>\n",
       "      <th>ImpsVal</th>\n",
       "      <th>ZipCode</th>\n",
       "      <th>NewConstruction</th>\n",
       "      <th>Multiplex</th>\n",
       "      <th>Single Family</th>\n",
       "      <th>Townhouse</th>\n",
       "    </tr>\n",
       "  </thead>\n",
       "  <tbody>\n",
       "    <tr>\n",
       "      <th>1</th>\n",
       "      <td>2014-09-16</td>\n",
       "      <td>280000</td>\n",
       "      <td>1000102</td>\n",
       "      <td>Multiplex</td>\n",
       "      <td>2014-09-01</td>\n",
       "      <td>405100</td>\n",
       "      <td>0.930836</td>\n",
       "      <td>300805.0</td>\n",
       "      <td>2</td>\n",
       "      <td>9373</td>\n",
       "      <td>...</td>\n",
       "      <td>1991</td>\n",
       "      <td>0</td>\n",
       "      <td>0</td>\n",
       "      <td>70000</td>\n",
       "      <td>229000</td>\n",
       "      <td>98002</td>\n",
       "      <td>False</td>\n",
       "      <td>1</td>\n",
       "      <td>0</td>\n",
       "      <td>0</td>\n",
       "    </tr>\n",
       "    <tr>\n",
       "      <th>2</th>\n",
       "      <td>2006-06-16</td>\n",
       "      <td>1000000</td>\n",
       "      <td>1200013</td>\n",
       "      <td>Single Family</td>\n",
       "      <td>2006-06-01</td>\n",
       "      <td>404400</td>\n",
       "      <td>0.929228</td>\n",
       "      <td>1076162.0</td>\n",
       "      <td>1</td>\n",
       "      <td>20156</td>\n",
       "      <td>...</td>\n",
       "      <td>2005</td>\n",
       "      <td>0</td>\n",
       "      <td>0</td>\n",
       "      <td>203000</td>\n",
       "      <td>590000</td>\n",
       "      <td>98166</td>\n",
       "      <td>True</td>\n",
       "      <td>0</td>\n",
       "      <td>1</td>\n",
       "      <td>0</td>\n",
       "    </tr>\n",
       "    <tr>\n",
       "      <th>3</th>\n",
       "      <td>2007-01-29</td>\n",
       "      <td>745000</td>\n",
       "      <td>1200019</td>\n",
       "      <td>Single Family</td>\n",
       "      <td>2007-01-01</td>\n",
       "      <td>425600</td>\n",
       "      <td>0.977941</td>\n",
       "      <td>761805.0</td>\n",
       "      <td>1</td>\n",
       "      <td>26036</td>\n",
       "      <td>...</td>\n",
       "      <td>1947</td>\n",
       "      <td>0</td>\n",
       "      <td>0</td>\n",
       "      <td>183000</td>\n",
       "      <td>275000</td>\n",
       "      <td>98166</td>\n",
       "      <td>False</td>\n",
       "      <td>0</td>\n",
       "      <td>1</td>\n",
       "      <td>0</td>\n",
       "    </tr>\n",
       "    <tr>\n",
       "      <th>4</th>\n",
       "      <td>2008-02-25</td>\n",
       "      <td>425000</td>\n",
       "      <td>2800016</td>\n",
       "      <td>Single Family</td>\n",
       "      <td>2008-02-01</td>\n",
       "      <td>418400</td>\n",
       "      <td>0.961397</td>\n",
       "      <td>442065.0</td>\n",
       "      <td>1</td>\n",
       "      <td>8618</td>\n",
       "      <td>...</td>\n",
       "      <td>1966</td>\n",
       "      <td>0</td>\n",
       "      <td>0</td>\n",
       "      <td>104000</td>\n",
       "      <td>229000</td>\n",
       "      <td>98168</td>\n",
       "      <td>False</td>\n",
       "      <td>0</td>\n",
       "      <td>1</td>\n",
       "      <td>0</td>\n",
       "    </tr>\n",
       "    <tr>\n",
       "      <th>5</th>\n",
       "      <td>2013-03-29</td>\n",
       "      <td>240000</td>\n",
       "      <td>2800024</td>\n",
       "      <td>Single Family</td>\n",
       "      <td>2013-03-01</td>\n",
       "      <td>351600</td>\n",
       "      <td>0.807904</td>\n",
       "      <td>297065.0</td>\n",
       "      <td>1</td>\n",
       "      <td>8620</td>\n",
       "      <td>...</td>\n",
       "      <td>1948</td>\n",
       "      <td>0</td>\n",
       "      <td>0</td>\n",
       "      <td>104000</td>\n",
       "      <td>205000</td>\n",
       "      <td>98168</td>\n",
       "      <td>False</td>\n",
       "      <td>0</td>\n",
       "      <td>1</td>\n",
       "      <td>0</td>\n",
       "    </tr>\n",
       "  </tbody>\n",
       "</table>\n",
       "<p>5 rows × 25 columns</p>\n",
       "</div>"
      ],
      "text/plain": [
       "  DocumentDate  SalePrice  PropertyID   PropertyType          ym  zhvi_px  \\\n",
       "1   2014-09-16     280000     1000102      Multiplex  2014-09-01   405100   \n",
       "2   2006-06-16    1000000     1200013  Single Family  2006-06-01   404400   \n",
       "3   2007-01-29     745000     1200019  Single Family  2007-01-01   425600   \n",
       "4   2008-02-25     425000     2800016  Single Family  2008-02-01   418400   \n",
       "5   2013-03-29     240000     2800024  Single Family  2013-03-01   351600   \n",
       "\n",
       "   zhvi_idx  AdjSalePrice  NbrLivingUnits  SqFtLot    ...      YrBuilt  \\\n",
       "1  0.930836      300805.0               2     9373    ...         1991   \n",
       "2  0.929228     1076162.0               1    20156    ...         2005   \n",
       "3  0.977941      761805.0               1    26036    ...         1947   \n",
       "4  0.961397      442065.0               1     8618    ...         1966   \n",
       "5  0.807904      297065.0               1     8620    ...         1948   \n",
       "\n",
       "   YrRenovated  TrafficNoise  LandVal  ImpsVal  ZipCode  NewConstruction  \\\n",
       "1            0             0    70000   229000    98002            False   \n",
       "2            0             0   203000   590000    98166             True   \n",
       "3            0             0   183000   275000    98166            False   \n",
       "4            0             0   104000   229000    98168            False   \n",
       "5            0             0   104000   205000    98168            False   \n",
       "\n",
       "   Multiplex  Single Family  Townhouse  \n",
       "1          1              0          0  \n",
       "2          0              1          0  \n",
       "3          0              1          0  \n",
       "4          0              1          0  \n",
       "5          0              1          0  \n",
       "\n",
       "[5 rows x 25 columns]"
      ]
     },
     "execution_count": 119,
     "metadata": {},
     "output_type": "execute_result"
    }
   ],
   "source": [
    "# Using sklearn to generate one-hot encoded property type from house_data\n",
    "#from sklearn.preprocessing import OneHotEncoder\n",
    "#ohe = OneHotEncoder(sparse=False)\n",
    "#house_property = np.array(house_data['PropertyType'])\n",
    "#house_property = house_property.reshape(-1, 1)\n",
    "#house_property = ohe.fit_transform(house_property)\n",
    "\n",
    "# Using pandas for same operation\n",
    "house_property = pd.get_dummies(house_data['PropertyType'])\n",
    "house_data = pd.concat([house_data, house_property], axis=1, sort=False)\n",
    "house_data.head()"
   ]
  },
  {
   "cell_type": "code",
   "execution_count": 120,
   "metadata": {},
   "outputs": [
    {
     "name": "stdout",
     "output_type": "stream",
     "text": [
      "Error of OHE Linear Regression Model is : 260961.0517340946\n"
     ]
    }
   ],
   "source": [
    "# From 'Multiplex', 'Single Family', 'Townhouse', added only 'Single Family' and 'Townhouse' for avoiding multilinearity\n",
    "# initiating the object for Linear Regression\n",
    "ohe_lin_reg = LinearRegression()\n",
    "\n",
    "# OHE Linear Regression\n",
    "ohe_features = ['SqFtLot','SqFtTotLiving','Bathrooms','Bedrooms','BldgGrade', 'Single Family', 'Townhouse']\n",
    "X = np.array(house_data[ohe_features])\n",
    "y = np.array(house_data['AdjSalePrice']).reshape(-1,1)\n",
    "\n",
    "ohe_lin_reg.fit(X,y)\n",
    "\n",
    "predictions_ohe_linear_regression = ohe_lin_reg.predict(X)\n",
    "\n",
    "print('Error of OHE Linear Regression Model is :',mean_squared_error(predictions_ohe_linear_regression,y)**(0.5))"
   ]
  },
  {
   "cell_type": "code",
   "execution_count": 121,
   "metadata": {},
   "outputs": [
    {
     "name": "stdout",
     "output_type": "stream",
     "text": [
      "Intercept : -521924.722038\n",
      "SqFtLot : -7.041336e-02\n",
      "SqFtTotLiving : 2.233739e+02\n",
      "Bathrooms : -1.597313e+04\n",
      "Bedrooms : -5.090060e+04\n",
      "BldgGrade : 1.094262e+05\n",
      "Single Family : -8.469138e+04\n",
      "Townhouse : -1.151471e+05\n"
     ]
    }
   ],
   "source": [
    "# Printing coefficients of the OHE Linear Regression\n",
    "print('Intercept : %f'%lin_reg.intercept_) \n",
    "for idx in range(0, len(ohe_features)):\n",
    "    print(ohe_features[idx] + ' : %e'%ohe_lin_reg.coef_[0][idx])"
   ]
  },
  {
   "cell_type": "markdown",
   "metadata": {},
   "source": [
    "* 계수에 대한 해석: 생략한 Multiplex에 비한 상대적인 값으로 해석해야 한다.\n",
    " * Single Family는 Multiplex에 비해 85,000달러 정도 가치가 낮고, \n",
    " * Townhouse는 150,000 달러 정도 가치가 낮다."
   ]
  },
  {
   "cell_type": "markdown",
   "metadata": {},
   "source": [
    "### 4.2 범주의 크기가 매우 큰 변수들\n",
    "\n",
    "* 어떤 범주는 그 수가 매우 커서 많은 양의 가변수를 생성해야만 하는 경우가 있다.  예륻 들어, 주택 가격 정보에서 지역정보를 대표할 수 있는 우편번호, 법정동코드 등이 그 예이다.  \n",
    "\n",
    "* 매매가격과 같은 다른 변수와 그룹으로 묶거나, 초기 모델의 잔차를 이용하여 묶는 방법도 있다.  \n",
    "\n",
    "* 아래 코드는 첫 번째 모델(킹카운티 주택가격예측)의 잔차를 이용하여 82개의 우편번호(ZipCode)로 대표되는 위치 정보를 반영한 그룹핑을 하는 코드이다.  가장 저렴한 지역에서 비싼 지역까지 5단계로 나누어 그룹핑을 한다.\n",
    "\n",
    "  아래 코드를 활용한 회귀 모델은 5.3에서 다룬다."
   ]
  },
  {
   "cell_type": "code",
   "execution_count": 122,
   "metadata": {},
   "outputs": [
    {
     "data": {
      "text/plain": [
       "82"
      ]
     },
     "execution_count": 122,
     "metadata": {},
     "output_type": "execute_result"
    }
   ],
   "source": [
    "# Number of zip codes in house_data\n",
    "len(house_data.ZipCode.unique())"
   ]
  },
  {
   "cell_type": "code",
   "execution_count": 123,
   "metadata": {},
   "outputs": [
    {
     "data": {
      "text/html": [
       "<div>\n",
       "<style scoped>\n",
       "    .dataframe tbody tr th:only-of-type {\n",
       "        vertical-align: middle;\n",
       "    }\n",
       "\n",
       "    .dataframe tbody tr th {\n",
       "        vertical-align: top;\n",
       "    }\n",
       "\n",
       "    .dataframe thead th {\n",
       "        text-align: right;\n",
       "    }\n",
       "</style>\n",
       "<table border=\"1\" class=\"dataframe\">\n",
       "  <thead>\n",
       "    <tr style=\"text-align: right;\">\n",
       "      <th></th>\n",
       "      <th>DocumentDate</th>\n",
       "      <th>SalePrice</th>\n",
       "      <th>PropertyID</th>\n",
       "      <th>PropertyType</th>\n",
       "      <th>ym</th>\n",
       "      <th>zhvi_px</th>\n",
       "      <th>zhvi_idx</th>\n",
       "      <th>AdjSalePrice</th>\n",
       "      <th>NbrLivingUnits</th>\n",
       "      <th>SqFtLot</th>\n",
       "      <th>...</th>\n",
       "      <th>NewConstruction</th>\n",
       "      <th>Multiplex</th>\n",
       "      <th>Single Family</th>\n",
       "      <th>Townhouse</th>\n",
       "      <th>ZipGroup</th>\n",
       "      <th>ZipGroup1</th>\n",
       "      <th>ZipGroup2</th>\n",
       "      <th>ZipGroup3</th>\n",
       "      <th>ZipGroup4</th>\n",
       "      <th>ZipGroup5</th>\n",
       "    </tr>\n",
       "  </thead>\n",
       "  <tbody>\n",
       "    <tr>\n",
       "      <th>0</th>\n",
       "      <td>2014-09-16</td>\n",
       "      <td>280000</td>\n",
       "      <td>1000102</td>\n",
       "      <td>Multiplex</td>\n",
       "      <td>2014-09-01</td>\n",
       "      <td>405100</td>\n",
       "      <td>0.930836</td>\n",
       "      <td>300805.0</td>\n",
       "      <td>2</td>\n",
       "      <td>9373</td>\n",
       "      <td>...</td>\n",
       "      <td>False</td>\n",
       "      <td>1</td>\n",
       "      <td>0</td>\n",
       "      <td>0</td>\n",
       "      <td>ZipGroup3</td>\n",
       "      <td>0</td>\n",
       "      <td>0</td>\n",
       "      <td>1</td>\n",
       "      <td>0</td>\n",
       "      <td>0</td>\n",
       "    </tr>\n",
       "    <tr>\n",
       "      <th>1</th>\n",
       "      <td>2006-06-16</td>\n",
       "      <td>1000000</td>\n",
       "      <td>1200013</td>\n",
       "      <td>Single Family</td>\n",
       "      <td>2006-06-01</td>\n",
       "      <td>404400</td>\n",
       "      <td>0.929228</td>\n",
       "      <td>1076162.0</td>\n",
       "      <td>1</td>\n",
       "      <td>20156</td>\n",
       "      <td>...</td>\n",
       "      <td>True</td>\n",
       "      <td>0</td>\n",
       "      <td>1</td>\n",
       "      <td>0</td>\n",
       "      <td>ZipGroup3</td>\n",
       "      <td>0</td>\n",
       "      <td>0</td>\n",
       "      <td>1</td>\n",
       "      <td>0</td>\n",
       "      <td>0</td>\n",
       "    </tr>\n",
       "    <tr>\n",
       "      <th>2</th>\n",
       "      <td>2007-01-29</td>\n",
       "      <td>745000</td>\n",
       "      <td>1200019</td>\n",
       "      <td>Single Family</td>\n",
       "      <td>2007-01-01</td>\n",
       "      <td>425600</td>\n",
       "      <td>0.977941</td>\n",
       "      <td>761805.0</td>\n",
       "      <td>1</td>\n",
       "      <td>26036</td>\n",
       "      <td>...</td>\n",
       "      <td>False</td>\n",
       "      <td>0</td>\n",
       "      <td>1</td>\n",
       "      <td>0</td>\n",
       "      <td>ZipGroup3</td>\n",
       "      <td>0</td>\n",
       "      <td>0</td>\n",
       "      <td>1</td>\n",
       "      <td>0</td>\n",
       "      <td>0</td>\n",
       "    </tr>\n",
       "    <tr>\n",
       "      <th>3</th>\n",
       "      <td>2008-02-25</td>\n",
       "      <td>425000</td>\n",
       "      <td>2800016</td>\n",
       "      <td>Single Family</td>\n",
       "      <td>2008-02-01</td>\n",
       "      <td>418400</td>\n",
       "      <td>0.961397</td>\n",
       "      <td>442065.0</td>\n",
       "      <td>1</td>\n",
       "      <td>8618</td>\n",
       "      <td>...</td>\n",
       "      <td>False</td>\n",
       "      <td>0</td>\n",
       "      <td>1</td>\n",
       "      <td>0</td>\n",
       "      <td>ZipGroup3</td>\n",
       "      <td>0</td>\n",
       "      <td>0</td>\n",
       "      <td>1</td>\n",
       "      <td>0</td>\n",
       "      <td>0</td>\n",
       "    </tr>\n",
       "    <tr>\n",
       "      <th>4</th>\n",
       "      <td>2013-03-29</td>\n",
       "      <td>240000</td>\n",
       "      <td>2800024</td>\n",
       "      <td>Single Family</td>\n",
       "      <td>2013-03-01</td>\n",
       "      <td>351600</td>\n",
       "      <td>0.807904</td>\n",
       "      <td>297065.0</td>\n",
       "      <td>1</td>\n",
       "      <td>8620</td>\n",
       "      <td>...</td>\n",
       "      <td>False</td>\n",
       "      <td>0</td>\n",
       "      <td>1</td>\n",
       "      <td>0</td>\n",
       "      <td>ZipGroup3</td>\n",
       "      <td>0</td>\n",
       "      <td>0</td>\n",
       "      <td>1</td>\n",
       "      <td>0</td>\n",
       "      <td>0</td>\n",
       "    </tr>\n",
       "  </tbody>\n",
       "</table>\n",
       "<p>5 rows × 31 columns</p>\n",
       "</div>"
      ],
      "text/plain": [
       "  DocumentDate  SalePrice  PropertyID   PropertyType          ym  zhvi_px  \\\n",
       "0   2014-09-16     280000     1000102      Multiplex  2014-09-01   405100   \n",
       "1   2006-06-16    1000000     1200013  Single Family  2006-06-01   404400   \n",
       "2   2007-01-29     745000     1200019  Single Family  2007-01-01   425600   \n",
       "3   2008-02-25     425000     2800016  Single Family  2008-02-01   418400   \n",
       "4   2013-03-29     240000     2800024  Single Family  2013-03-01   351600   \n",
       "\n",
       "   zhvi_idx  AdjSalePrice  NbrLivingUnits  SqFtLot    ...      \\\n",
       "0  0.930836      300805.0               2     9373    ...       \n",
       "1  0.929228     1076162.0               1    20156    ...       \n",
       "2  0.977941      761805.0               1    26036    ...       \n",
       "3  0.961397      442065.0               1     8618    ...       \n",
       "4  0.807904      297065.0               1     8620    ...       \n",
       "\n",
       "   NewConstruction  Multiplex  Single Family  Townhouse   ZipGroup  ZipGroup1  \\\n",
       "0            False          1              0          0  ZipGroup3          0   \n",
       "1             True          0              1          0  ZipGroup3          0   \n",
       "2            False          0              1          0  ZipGroup3          0   \n",
       "3            False          0              1          0  ZipGroup3          0   \n",
       "4            False          0              1          0  ZipGroup3          0   \n",
       "\n",
       "   ZipGroup2  ZipGroup3  ZipGroup4  ZipGroup5  \n",
       "0          0          1          0          0  \n",
       "1          0          1          0          0  \n",
       "2          0          1          0          0  \n",
       "3          0          1          0          0  \n",
       "4          0          1          0          0  \n",
       "\n",
       "[5 rows x 31 columns]"
      ]
     },
     "execution_count": 123,
     "metadata": {},
     "output_type": "execute_result"
    }
   ],
   "source": [
    "# Grouping zip codes with residuals\n",
    "zip_house_data = house_data.copy()\n",
    "\n",
    "# get residuals of each prediction results\n",
    "zip_house_data['resid'] = (y - predictions_multiple_linear_regression)\n",
    "\n",
    "# get medians for each ZipCode and sort on median values\n",
    "zip_med = zip_house_data.groupby('ZipCode').resid.median().sort_values()\n",
    "\n",
    "# grouping zipcodes into 5 categories\n",
    "zip_group = pd.qcut(zip_med, 5, labels=['ZipGroup1','ZipGroup2','ZipGroup3','ZipGroup4','ZipGroup5'])\n",
    "zip_group = pd.DataFrame(zip_group)\n",
    "\n",
    "# Left Join based on 'ZipCode'\n",
    "grouped_house_data = pd.merge(house_data, zip_group, how='left', left_on='ZipCode', right_on='ZipCode')\n",
    "grouped_house_data = grouped_house_data.rename(columns={'resid':'ZipGroup'})\n",
    "\n",
    "# One-hot Encoding the ZipCode \n",
    "zip_groups = pd.get_dummies(grouped_house_data['ZipGroup'])\n",
    "grouped_house_data = pd.concat([grouped_house_data, zip_groups], axis=1, sort=False)\n",
    "grouped_house_data.head()"
   ]
  },
  {
   "cell_type": "markdown",
   "metadata": {},
   "source": [
    "### 5.3 순서가 있는 범주형 변수\n",
    "\n",
    "* 범주형 변수 중에 등급이나 순서와 같이 의미를 가지는 변수는 수치형 변수로 변형할때 순서에 맞추어 변환해주어야 한다. (주어진 데이터에는 이미 변환되어 있음)\n",
    "\n",
    "| 값 | 설명 |\n",
    "|----|----|\n",
    "| 1  | 오두막 | \n",
    "| 2  | 기준 미달 |\n",
    "| ... | ... |\n",
    "| 5  | 적당함 | \n",
    "| ... | ... |\n",
    "| 10 | 매우좋음 |\n",
    "| 12 | 호화로움 | \n",
    "| 13 | 대저택| "
   ]
  },
  {
   "cell_type": "code",
   "execution_count": 124,
   "metadata": {},
   "outputs": [
    {
     "data": {
      "text/plain": [
       "1     7\n",
       "2    10\n",
       "3     8\n",
       "4     7\n",
       "5     7\n",
       "Name: BldgGrade, dtype: int64"
      ]
     },
     "execution_count": 124,
     "metadata": {},
     "output_type": "execute_result"
    }
   ],
   "source": [
    "house_data['BldgGrade'].head(5)"
   ]
  },
  {
   "cell_type": "markdown",
   "metadata": {},
   "source": [
    "## 5. 회귀모델 해석하기\n",
    "\n",
    "* 데이터 과학에서 중요한 것은 종속변수를 예측하는 것이지만, 예측변수와 종속변수간 관계를 이해하기 위해서 회귀모델로부터 통찰을 얻는 경우도 있다.\n",
    "\n",
    "### 5.1 예측변수간 상관관계\n",
    "\n",
    "* 다중회귀분석에서 예측변수는 서로간에 영향이 있을 수 있다.\n",
    "\n",
    "* 위에서 수행했던 회귀계수를 아래 코드에서 보면, Bedrooms가 음수이다.  왜 그럴까? \n",
    "\n",
    "  집이 클수록 방수가 증가하는 경향이 있다.  동일한 크기의 집이 있을때 방수가 많아지면 방크기가 작아져서 매매가에 음의 영향을 줄 수 있다.\n",
    " \n",
    "  EDA를 통해서 보게 되면, 방수, 평수, 욕실수 등은 상관관계가 있을 것이다.  이들을 제거 한 후에, 계수를 보면 달라짐을 알 수 있다.\n",
    " "
   ]
  },
  {
   "cell_type": "code",
   "execution_count": 125,
   "metadata": {},
   "outputs": [
    {
     "name": "stdout",
     "output_type": "stream",
     "text": [
      "Intercept : -521924.722038\n",
      "SqFtLot : -6.050601e-02\n",
      "SqFtTotLiving : 2.288321e+02\n",
      "Bathrooms : -1.943810e+04\n",
      "Bedrooms : -4.778115e+04\n",
      "BldgGrade : 1.061172e+05\n"
     ]
    }
   ],
   "source": [
    "# Printing coefficients of the Multiple Linear Regression\n",
    "print('Intercept : %f'%lin_reg.intercept_) \n",
    "for idx in range(0, len(features)):\n",
    "    print(features[idx] + ' : %e'%lin_reg.coef_[0][idx])"
   ]
  },
  {
   "cell_type": "code",
   "execution_count": 126,
   "metadata": {},
   "outputs": [
    {
     "name": "stdout",
     "output_type": "stream",
     "text": [
      "Error of Multiple Linear Regression Model is : 260961.0517340946\n",
      "Intercept : -521924.722038\n",
      "Bedrooms : -7.041336e-02\n",
      "BldgGrade : 2.233739e+02\n",
      "Single Family : -1.597313e+04\n",
      "Townhouse : -5.090060e+04\n",
      "YrBuilt : 1.094262e+05\n"
     ]
    }
   ],
   "source": [
    "# From 'Multiplex', 'Single Family', 'Townhouse', added only 'Single Family' and 'Townhouse' for avoiding multilinearity\n",
    "# initiating the object for Linear Regression\n",
    "m_lin_reg = LinearRegression()\n",
    "\n",
    "# Multiple Linear Regression\n",
    "modified_features = ['Bedrooms','BldgGrade', 'Single Family', 'Townhouse', 'YrBuilt']\n",
    "X = np.array(house_data[ohe_features])\n",
    "y = np.array(house_data['AdjSalePrice']).reshape(-1,1)\n",
    "\n",
    "m_lin_reg.fit(X,y)\n",
    "\n",
    "predictions_simple_linear_regression = m_lin_reg.predict(X)\n",
    "\n",
    "print('Error of Multiple Linear Regression Model is :',mean_squared_error(predictions_simple_linear_regression,y)**(0.5))\n",
    "\n",
    "# Printing coefficients of the Multiple Linear Regression\n",
    "print('Intercept : %f'%lin_reg.intercept_) \n",
    "for idx in range(0, len(modified_features)):\n",
    "    print(modified_features[idx] + ' : %e'%m_lin_reg.coef_[0][idx])"
   ]
  },
  {
   "cell_type": "markdown",
   "metadata": {},
   "source": [
    "### 5.2 다중공선성(Multicollinearity)\n",
    "\n",
    "* 예측변수 중 일부가 극단적인 상관관계를 보이는 것을 다중공선성이라고 한다.  일반적으로 오류로 인해 한 변수가 여러 번 포함되었거나, 범주형 변수를 인코딩 시 $ p - 1 $개가 아닌 $p$개로 만들거나, 실제로 두 변수가 상관성이 매우 높은 경우 발생한다. \n",
    "\n",
    "* 회귀분석을 하는 경우, 다종공선성은 제대로 된 예측을 할 수 없기 때문에, 반드시 해결해야한다.  다중공선성이 사라질 때 까지 연관된 변수들을 제거해야한다.\n",
    "\n",
    "  (다만, 트리 계열이나 클러스터링, 최근접 이웃 알고리즘 등에서는 문제가 되지 않으며, 범주형 변수의 인코딩 개수도 $p$로 유지하는 것이 좋다.)\n",
    "\n",
    "* 다중공성선의 경우 탐색적 데이터 분석과정에서 Scatter plot 등을 통해서 확인할 수 있다.\n"
   ]
  },
  {
   "cell_type": "markdown",
   "metadata": {},
   "source": [
    "### 5.3 교란변수 (Confounder Variable)\n",
    "\n",
    "* 교란변수(또는 혼란변수)는 실제로는 중요한 변수이나 상관관계가 잘 드러나지 않거나, 원데이터에 포함되지 않은 변수를 일컫는다. \n",
    "\n",
    "* 예를 들어, 2.1에서 적용한 회귀 모델의 경우 일부 변수(SqFtLot, Bathrooms, Bedrooms)의 계수가 음수가 되는 것을 보았다.  이는 **교란변수** 가 빠져있는 것이 원인 일 수 있다.\n",
    "\n",
    "|Coefficients|value|\n",
    "|------|------|\n",
    "|Intercept | -521924.722038|\n",
    "|SqFtLot | -6.050601e-02|\n",
    "|SqFtTotLiving | 2.288321e+02|\n",
    "|Bathrooms | -1.943810e+04|\n",
    "|Bedrooms | -4.778115e+04|\n",
    "|BldgGrade | 1.061172e+05|\n",
    "\n",
    "* 우편번호(ZipCode)를 기준으로 지역에 대한 가중치를 1~5까지 부여한 ZipGroup변수를 추가하면, 음수계수들의 일부가 양수로 바뀌는 것을 볼 수 있다. (Bedrooms는 여전히 음수이다.  왜냐하면, 좋은 동네에서는 같은 조건에서 방이 많으면 오히려 값어치가 떨어지는 것으로 해석할 수 있다)"
   ]
  },
  {
   "cell_type": "code",
   "execution_count": 127,
   "metadata": {},
   "outputs": [
    {
     "name": "stdout",
     "output_type": "stream",
     "text": [
      "Error of Linear Regression Model is : 232048.3822270182\n",
      "Intercept : -665438.170814\n",
      "SqFtTotLiving : 2.108199e+02\n",
      "SqFtLot : 4.610750e-01\n",
      "Bathrooms : 5.733886e+03\n",
      "Bedrooms : -4.177387e+04\n",
      "BldgGrade : 9.871896e+04\n",
      "Single Family : 1.918960e+04\n",
      "Townhouse : -7.831023e+04\n",
      "ZipGroup2 : 5.167900e+04\n",
      "ZipGroup3 : 1.140295e+05\n",
      "ZipGroup4 : 1.762335e+05\n",
      "ZipGroup5 : 3.361657e+05\n"
     ]
    }
   ],
   "source": [
    "# initiating the object for Linear Regression\n",
    "con_lin_reg = LinearRegression()\n",
    "\n",
    "# Multiple Linear Regression\n",
    "confounding_features = ['SqFtTotLiving', 'SqFtLot', 'Bathrooms', 'Bedrooms', 'BldgGrade', 'Single Family', 'Townhouse', 'ZipGroup2', 'ZipGroup3', 'ZipGroup4', 'ZipGroup5']\n",
    "X = np.array(grouped_house_data[confounding_features])\n",
    "y = np.array(grouped_house_data['AdjSalePrice']).reshape(-1,1)\n",
    "\n",
    "con_lin_reg.fit(X,y)\n",
    "\n",
    "predictions_con_linear_regression = con_lin_reg.predict(X)\n",
    "\n",
    "print('Error of Linear Regression Model is :',mean_squared_error(predictions_con_linear_regression,y)**(0.5))\n",
    "\n",
    "# Printing coefficients of the Linear Regression with Confounding Variables\n",
    "print('Intercept : %f'%con_lin_reg.intercept_) \n",
    "for idx in range(0, len(confounding_features)):\n",
    "    print(confounding_features[idx] + ' : %e'%con_lin_reg.coef_[0][idx])"
   ]
  },
  {
   "cell_type": "markdown",
   "metadata": {},
   "source": [
    "### 5.4 상호작용과 주효과\n",
    "\n",
    "* 주효과는 독립변수가 종속변수에 독립적으로 작용하는 것을 의미하고, 상호작용은 이들 모두에게 작용하는 것을 말한다.\n",
    "\n",
    "* 암묵적으로 독립변수들 사이는 상호 독립적이라는 가정이 있기 마련이지만, 실제로는 상호작용이 종종 발생하기 때문에 이를 간과해서는 안된다.\n",
    "\n",
    "* 선형 회귀에서는 상호작용이 포함되도록 독립변수를 추가해주어야 한다.\n",
    "\n",
    "---\n",
    "> 선형회귀와는 달리 랜덤 포레스트나 부스팅 트리와 같은 트리 모델의 경우에는 자동적으로 상호작용을 걸러낸다. \n",
    "---\n",
    "\n",
    "* 아래 코드는 SqFtTotLiving과 ZipGroup간 상호작용을 적용한 회귀 모델을 만드는 코드이다."
   ]
  },
  {
   "cell_type": "code",
   "execution_count": 128,
   "metadata": {},
   "outputs": [
    {
     "name": "stdout",
     "output_type": "stream",
     "text": [
      "Error of Linear Regression Model is : 217348.59642111862\n",
      "Intercept : -487566.326291\n",
      "SqFtTotLiving : 1.177056e+02\n",
      "SqFtLot : 6.957132e-01\n",
      "Bathrooms : -3.935064e+03\n",
      "Bedrooms : -4.196003e+04\n",
      "BldgGrade : 1.048301e+05\n",
      "Single Family : 1.339153e+04\n",
      "Townhouse : -5.883474e+04\n",
      "ZipGroup2 : -1.311497e+04\n",
      "ZipGroup3 : 2.263524e+04\n",
      "ZipGroup4 : 2.262161e+04\n",
      "ZipGroup5 : -1.475744e+05\n",
      "SqFtTotLiving-ZipGroup2 : 3.148892e+01\n",
      "SqFtTotLiving-ZipGroup3 : 3.891098e+01\n",
      "SqFtTotLiving-ZipGroup4 : 6.659506e+01\n",
      "SqFtTotLiving-ZipGroup5 : 2.238079e+02\n"
     ]
    }
   ],
   "source": [
    "# initiating the object for Linear Regression\n",
    "inter_lin_reg = LinearRegression()\n",
    "\n",
    "# Adding interaction terms between SqFtTotLiving and ZipGroup2~5\n",
    "grouped_house_data['SqFtTotLiving-ZipGroup2'] = grouped_house_data['SqFtTotLiving'] * grouped_house_data['ZipGroup2']\n",
    "grouped_house_data['SqFtTotLiving-ZipGroup3'] = grouped_house_data['SqFtTotLiving'] * grouped_house_data['ZipGroup3']\n",
    "grouped_house_data['SqFtTotLiving-ZipGroup4'] = grouped_house_data['SqFtTotLiving'] * grouped_house_data['ZipGroup4']\n",
    "grouped_house_data['SqFtTotLiving-ZipGroup5'] = grouped_house_data['SqFtTotLiving'] * grouped_house_data['ZipGroup5']\n",
    "\n",
    "# Multiple Linear Regression\n",
    "inter_features = ['SqFtTotLiving', 'SqFtLot', 'Bathrooms', 'Bedrooms', 'BldgGrade', 'Single Family', 'Townhouse', 'ZipGroup2', 'ZipGroup3', 'ZipGroup4', 'ZipGroup5', 'SqFtTotLiving-ZipGroup2', 'SqFtTotLiving-ZipGroup3', 'SqFtTotLiving-ZipGroup4', 'SqFtTotLiving-ZipGroup5']   \n",
    "X = np.array(grouped_house_data[inter_features])\n",
    "y = np.array(grouped_house_data['AdjSalePrice']).reshape(-1,1)\n",
    "\n",
    "inter_lin_reg.fit(X,y)\n",
    "\n",
    "predictions_inter_linear_regression = inter_lin_reg.predict(X)\n",
    "\n",
    "print('Error of Linear Regression Model is :',mean_squared_error(predictions_inter_linear_regression,y)**(0.5))\n",
    "\n",
    "# Printing coefficients of the Linear Regression with Confounding Variables\n",
    "print('Intercept : %f'%inter_lin_reg.intercept_) \n",
    "for idx in range(0, len(inter_features)):\n",
    "    print(inter_features[idx] + ' : %e'%inter_lin_reg.coef_[0][idx])"
   ]
  },
  {
   "cell_type": "markdown",
   "metadata": {},
   "source": [
    "## 6. 가정검정: 회귀 진단\n",
    "\n",
    "* 회귀 모델이 만들어 지면 앞에서 설명한 여러 가지 지표들을 고려하여 얼마나 모델이 데이터에 적합한지를 평가한다.\n",
    "\n",
    "* 잔차 분석이 기본이 된다.\n",
    "\n",
    "* 참고자료: https://datascienceschool.net/view-notebook/6d9c833f132e4e789e35632b49be2c2d/\n",
    "\n",
    "### 6.1 특이값(Outlier)\n",
    "\n",
    "* 대부분의 측정치에서 멀리 벗어난 값을 가리킨다.  실제 $y$값이 예측된 값에서 멀리 떨어져 있는 경우를 의미한다. \n",
    "\n",
    "* 특이값과 정상값을 구분하는 통계이론은 없으며, 경험에 의해서 판단하는 경향이 있다.  \n",
    "\n",
    "* 잔차를 표준오차(예측값의 표준편차)로 나눈 표준화잔차(Standardized Residuals)를 구해서 특이값을 발견할 수 있다.  일반적으로 $\\pm2 $ ~ $4$보다 크면 이상점으로 볼 수 있다.\n",
    "\n",
    "  $ r_i = \\displaystyle\\frac{(Y_i - \\bar Y)} {\\sqrt { \\sum (Y_i - \\bar Y)^2 \\over n }} $\n",
    "  \n",
    "* 아래 예제는 킹카운티 주택매매 데이터에서 우편번호가 98105인 지역의 데이터로 회귀모델을 구해본 것 이다.  \n",
    "  "
   ]
  },
  {
   "cell_type": "code",
   "execution_count": 142,
   "metadata": {},
   "outputs": [
    {
     "name": "stdout",
     "output_type": "stream",
     "text": [
      "Min. Standardized Residuals: -4.326732\n",
      "Max. Hat value: 0.269738\n",
      "Max. Cook's Distance: 0.560789\n"
     ]
    },
    {
     "data": {
      "text/plain": [
       "AdjSalePrice     119748.0\n",
       "SqFtLot            7276.0\n",
       "SqFtTotLiving      2900.0\n",
       "Bathrooms             3.0\n",
       "Bedrooms              6.0\n",
       "BldgGrade             7.0\n",
       "Name: 24333, dtype: float64"
      ]
     },
     "execution_count": 142,
     "metadata": {},
     "output_type": "execute_result"
    }
   ],
   "source": [
    "features_98105 = ['AdjSalePrice', 'SqFtLot', 'SqFtTotLiving', 'Bathrooms', 'Bedrooms', 'BldgGrade']\n",
    "house_data_98105 = house_data[house_data['ZipCode'] == 98105]\n",
    "house_data_98105 = house_data_98105[features_98105]\n",
    "result_98105 = sm.OLS.from_formula(formula='AdjSalePrice ~ SqFtLot + SqFtTotLiving + Bathrooms + Bedrooms + BldgGrade', data=house_data_98105).fit()\n",
    "\n",
    "# Standardized Residuals are calculated in resid_pearson whereas individual Redisuals are in resid\n",
    "#print(\"Min. Standard Residuals: %f\"%result_98105.resid_pearson.min())\n",
    "#print(\"Index of Min S.R: %d\"%result_98105.resid_pearson.argmin())\n",
    "\n",
    "# Or, you can get Stardardized Residuals from get_influence() which returns DataFrame of the some influencetil observations\n",
    "result_infldf_98105 = result_98105.get_influence().summary_frame()\n",
    "print(\"Min. Standardized Residuals: %f\"%result_infldf_98105.standard_resid.min())\n",
    "\n",
    "# for reference, you can access standard residuals, hat-values, cook's distance from the OLS results\n",
    "print(\"Max. Hat value: %f\"%result_infldf_98105.hat_diag.max())\n",
    "print(\"Max. Cook's Distance: %f\"%result_infldf_98105.cooks_d.max())\n",
    "\n",
    "house_data_98105.iloc[result_98105.resid_pearson.argmin()]"
   ]
  },
  {
   "cell_type": "markdown",
   "metadata": {},
   "source": [
    "* 표준화 잔차가 $\\pm4$ 이상 차이가 나는 것을 확인할 수 있다. \n",
    "\n",
    "* 책에서는 이 데이터가 법정담보에 잡혀있는 집이기 때문에 AdjSalePrice가 주변에 비해 매우 낮게 잡힌 것으로 설명하고 있다.  이런 데이터는 특수한 경우를 제외하고는 주택 가격 예측을 위해서는 포함되지 않아야 한다.\n",
    "\n",
    "---\n",
    "> 빅데이터에서의 예측을 위한 회귀분석에서는 특이값을 검출하기 위한 예측 모델을 제외하면 특이값이 큰 문제가 되지는 않는다.\n",
    "---\n",
    "\n",
    "* 아래 코드는 표준화 잔차를 그리는 코드이다.  기준선을 $\\pm4$로 그리고 이를 넘는 예측값을 확인할 수 있다."
   ]
  },
  {
   "cell_type": "code",
   "execution_count": 130,
   "metadata": {},
   "outputs": [
    {
     "data": {
      "image/png": "[encoded data removed]",
      "text/plain": [
       "<Figure size 1080x360 with 1 Axes>"
      ]
     },
     "metadata": {
      "needs_background": "light"
     },
     "output_type": "display_data"
    }
   ],
   "source": [
    "plt.figure(figsize=(15, 5))\n",
    "plt.stem(result_98105.resid_pearson)\n",
    "plt.axhline(4, c=\"g\", ls=\"--\")\n",
    "plt.axhline(-4, c=\"g\", ls=\"--\")\n",
    "plt.title(\"Standardized Residuals\")\n",
    "plt.show()"
   ]
  },
  {
   "cell_type": "markdown",
   "metadata": {},
   "source": [
    "### 6.2 영향값\n",
    "\n",
    "* 회귀모델에서 제외되었을 때 모델에 중요한 변화를 가져오는 관측값을 **주영향관측값(Influential Observation)** 이라고 하고, **레버리지(Leverage)** 가 높다고도 표현한다.\n",
    "\n",
    "* 레버리지를 측정하는 일반적인 척도는 **햇 값(hat value)** 이다.  $2(P+1) \\over n$ 이상의 값들은 레버리지가 높다고 보면 된다.\n",
    "\n",
    "#### 쿡의 거리(Cook's Distance)\n",
    "\n",
    "* 레버리지와 잔차의 크기를 합쳐서 영향력을 판단한다.  경험적으로 쿡의 거리가 $4 \\over (n-P-1)$보다 크면 영향력이 크다고 보는 편이다.\n",
    "\n",
    "* **영향력그림(Influence Plot)** 또는 **거품그림(Bubble Plot)** 은 표준화잔차, 햇값, 쿡의 거리를 모두 한 그림에 표현해준다.\n",
    "  \n",
    "  아래 그림에서 숫자의 크기가 쿡의 거리의 크기이다."
   ]
  },
  {
   "cell_type": "code",
   "execution_count": 131,
   "metadata": {},
   "outputs": [
    {
     "data": {
      "image/png": "[encoded data removed]",
      "text/plain": [
       "<Figure size 432x288 with 1 Axes>"
      ]
     },
     "metadata": {
      "needs_background": "light"
     },
     "output_type": "display_data"
    },
    {
     "data": {
      "image/png": "[encoded data removed]",
      "text/plain": [
       "<Figure size 432x288 with 1 Axes>"
      ]
     },
     "metadata": {
      "needs_background": "light"
     },
     "output_type": "display_data"
    }
   ],
   "source": [
    "# Bubble plot from statsmodel using influence plot\n",
    "sm.graphics.influence_plot(result_98105, plot_alpha=0.3)\n",
    "plt.axhline(4, c=\"g\", ls=\"--\")\n",
    "plt.axhline(-4, c=\"g\", ls=\"--\")\n",
    "plt.show()\n",
    "\n",
    "# Bubble plot using scatter plot\n",
    "plt.scatter(result_infldf_98105.hat_diag, result_infldf_98105.standard_resid, s=result_infldf_98105.cooks_d*1000, alpha=0.3)\n",
    "plt.axhline(4, c=\"g\", ls=\"--\")\n",
    "plt.axhline(-4, c=\"g\", ls=\"--\")\n",
    "plt.title(\"Influence Plot\")\n",
    "plt.show()"
   ]
  },
  {
   "cell_type": "markdown",
   "metadata": {},
   "source": [
    "### 6.3 이분산성(heteroscedasticity), 비정규성, 잔차간 상관관계\n",
    "\n",
    "* 통계적 추론에서는 **잔차의 분포가 매우 중요** 하다.  통계적 추론이 유효하기 위해서는 회귀 모델의 잔차가 1. 동일한 분산을 가지고, 2. 정규분포를 따르며, 3. 잔차가 서로 독립적이어야 한다는 가정이 필요하다. (데이터 과학에서는 크게 중요하지는 않다.)\n",
    "\n",
    "* **이분산성(Heteroscedasticity)** 는 잔차의 분산이 일정하지 않고, 특정 범위의 잔차가 다른 데보다 훨씬 크게 나타나는 것을 말한다. \n",
    "\n",
    "* **비정규성** 은 말그대로 잔차가 정규본포를 따르지 않는 것을 말한다.\n",
    "\n",
    "* **잔차간상관** 은 잔차가 독립적이지 않고, 상관관계를 가지는 것을 의미한다.  더빈-왓슨 통계량(Dubin-Watson Statistic)을 사용하여 이를 탐지할 수 있다.\n",
    "\n",
    "* 데이터 과학에서는 위의 3가지 가정보다 중요하게 생각하는 것이 예측 정확도이다.\n",
    "\n",
    "참고 plotnine: https://plotnine.readthedocs.io/en/stable/index.html\n",
    "\n",
    "* 아래 예제는 우편번호가 98104인 회귀 모델에서 가져온 데이터이다.  잔차의 분산이 고가의 주택일수록 증가하는 경향이 있지만, 저가의 주택에서도 마찬가지로 잔차의 분산 정도가 큰 편이다.  이분산성의 예를 보여준다고 할 수 있다.\n",
    "\n",
    "---\n",
    "> 이분산성은 예측값이 어떤 경우에는 맞고, 어떤 경우에는 틀리다는 것은 나타내는 척도로, 회귀모델이 불완전함을 보여준다. 예를 들어 아래 가격이 너무 낮거나 높은 경우 잘 예측하지 못한다는 것을 보여준다.\n",
    "---"
   ]
  },
  {
   "cell_type": "code",
   "execution_count": 152,
   "metadata": {},
   "outputs": [
    {
     "data": {
      "image/png": "[encoded data removed]",
      "text/plain": [
       "<Figure size 640x480 with 1 Axes>"
      ]
     },
     "metadata": {},
     "output_type": "display_data"
    },
    {
     "data": {
      "text/plain": [
       "<ggplot: (8787621336538)>"
      ]
     },
     "execution_count": 152,
     "metadata": {},
     "output_type": "execute_result"
    }
   ],
   "source": [
    "#Example of Heteroscedasticity\n",
    "import plotnine\n",
    "from plotnine import *\n",
    "\n",
    "hetero_df = pd.DataFrame(columns=['resid', 'pred'])\n",
    "hetero_df['resid'] = result_98105.resid.copy()\n",
    "hetero_df['resid'] = abs(hetero_df['resid'])\n",
    "hetero_df['pred'] = result_98105.predict()\n",
    "\n",
    "(ggplot(hetero_df, aes(x='pred', y='abs(resid)')) +\n",
    "     geom_point() +\n",
    "     geom_smooth(colour='blue', linetype='solid') +\n",
    "     #stat_smooth(method='ols', linetype='dotted', fullrange=True) +    \n",
    "     ggtitle('Scatterplot on Absolute Residuals and Predictions')\n",
    ")"
   ]
  },
  {
   "cell_type": "markdown",
   "metadata": {},
   "source": [
    "* 아래 예제는 우편번호 98105 지역의 주택매매 데이터로 만든 회귀모형의 표준화잔차에 대한 히스토그램이다.\n",
    "\n",
    "* 정규보포와 달리 양쪽꼬리가 더 길고, 잔차가 끝 쪽에서 왜곡되는 것을 볼 수 있다."
   ]
  },
  {
   "cell_type": "code",
   "execution_count": 133,
   "metadata": {},
   "outputs": [
    {
     "data": {
      "text/plain": [
       "<matplotlib.axes._subplots.AxesSubplot at 0x7fe0709acd68>"
      ]
     },
     "execution_count": 133,
     "metadata": {},
     "output_type": "execute_result"
    },
    {
     "data": {
      "image/png": "[encoded data removed]",
      "text/plain": [
       "<Figure size 432x288 with 1 Axes>"
      ]
     },
     "metadata": {
      "needs_background": "light"
     },
     "output_type": "display_data"
    }
   ],
   "source": [
    "import seaborn as sns\n",
    "sns.distplot(result_infldf_98105.standard_resid)"
   ]
  },
  {
   "cell_type": "markdown",
   "metadata": {},
   "source": [
    "### 6.4 편잔차그림(Partial Residual Plot)과 비선형성(Nonlinearity)\n",
    "\n",
    "* 편잔차(Partial Residual)는 단일 예측변수를 기반으로한 예측값과 전체를 고려한 회귀모델의 잔차를 더하여 만든 결과이다.  \n",
    "\n",
    "  $ Partial Residual = Residual + \\hat b_i X_i$, \n",
    "  \n",
    "  여기서 $ \\hat b_i $ 는 회귀계수 추정치, $X_i$는 편잔차 그림을 그리기 위한 단일 예측변수\n",
    "\n",
    "* 하나의 예측변수와 응답변수를 다른 예측변수로부터 분리하여 관계를 보여주려는 것이 기본 개념이다.\n",
    "\n",
    "* 편잔차그림은 회귀모델이 예측변수와 응답변수 간의 관계를 얼마나 잘 설명하는지 시각화하는 방법이다.\n",
    "\n",
    "* 아래 예제는 SqFtTotLiving 변수가 주택 가격에 얼마나 영향을 미치는지 비선형성으로 나타나고 있다.\n",
    "\n",
    "  편잔차선(파란실선) 대비 회귀선(검정점선)을 비교해보면 1000$ft^2$보다 작은 경우 저평가하고, 2000 ~ 3000$ft^2$의 경우 고평가를 하고 있음을 볼 수 있다.  4000 $ft^2$이상의 경우에는 데이터 수가 작고 분산되어 있어 결론 내리는 것이 어렵다.\n",
    "  \n",
    "  "
   ]
  },
  {
   "cell_type": "code",
   "execution_count": 134,
   "metadata": {},
   "outputs": [
    {
     "data": {
      "image/png": "[encoded data removed]",
      "text/plain": [
       "<Figure size 640x480 with 1 Axes>"
      ]
     },
     "metadata": {},
     "output_type": "display_data"
    },
    {
     "data": {
      "text/plain": [
       "<ggplot: (-9223363249233137562)>"
      ]
     },
     "execution_count": 134,
     "metadata": {},
     "output_type": "execute_result"
    }
   ],
   "source": [
    "p_resid_df = pd.DataFrame(columns=['resid', 'SqFtTotLiving', 'Terms', 'PartialResid'])\n",
    "p_resid_df['resid'] = result_98105.resid\n",
    "p_resid_df['SqFtTotLiving'] = house_data_98105.SqFtTotLiving\n",
    "p_resid_df['Terms'] = result_98105.params.SqFtTotLiving * p_resid_df.SqFtTotLiving\n",
    "p_resid_df['PartialResid'] = p_resid_df.resid + p_resid_df.Terms\n",
    "\n",
    "(ggplot(p_resid_df, aes(x='SqFtTotLiving', y='PartialResid')) +\n",
    "     geom_point() + scale_shape(solid=False) +\n",
    "     geom_smooth(colour='blue', linetype='solid') +\n",
    "     geom_line(aes(x='SqFtTotLiving',y='Terms'), linetype='dotted') +    \n",
    "     ggtitle('Partial Residual of SqFtTotLiving')\n",
    ")"
   ]
  },
  {
   "cell_type": "markdown",
   "metadata": {},
   "source": [
    "## 7. 다항회귀(Polynomial Regression)와 스플라인 회귀(Spline Regression)\n",
    "\n",
    "* 응답변수와 예측변수의 관계를 비선형일 수 있다. 비선형성을 담기 위한 방법은 제목과 같이 몇 가지가 있다.\n",
    "\n",
    "### 7.1 다항회귀(Polynomial Regression)\n",
    "\n",
    "* 다항회귀는 회귀식에 다항을 포함하고 있으며 아래와 같은 식으로 표현될 수 있다.\n",
    "\n",
    "  $ Y = b_0 + b_1X + b_2X^2 + e $\n",
    "  \n",
    "* 아래 예제는 SqFtTotLiving에 대한 이차 다항식을 적용하여 피팅하는 과정을 보여준다.  \n",
    "\n",
    "  R과는 달리 Python에서는 1차항과 2차항(np.power나 np.square 등을 이용)에 대한 회귀모델을 명시적으로 만들어 주어야 한다. (라이브러리가 현재 없거나 개발진행중)\n",
    "  \n",
    "  계수가 1차항과 2차항 계수가 각각 생성되었음을 확인 할 수 있다. \n",
    "  \n",
    "* 편잔차 그림에서 볼 수 있듯이 선형회귀 때 결과보다 그 차이가 확연하기 줄어든 것을 볼 수 있다. "
   ]
  },
  {
   "cell_type": "code",
   "execution_count": 135,
   "metadata": {},
   "outputs": [
    {
     "data": {
      "text/plain": [
       "Intercept                    -615850.841791\n",
       "np.power(SqFtTotLiving, 2)         0.038791\n",
       "SqFtTotLiving                      7.452134\n",
       "SqFtLot                           32.559355\n",
       "Bathrooms                      -1435.123106\n",
       "Bedrooms                       -9191.944128\n",
       "BldgGrade                     135717.060127\n",
       "dtype: float64"
      ]
     },
     "execution_count": 135,
     "metadata": {},
     "output_type": "execute_result"
    }
   ],
   "source": [
    "features_poly = ['AdjSalePrice', 'SqFtLot', 'SqFtTotLiving', 'Bathrooms', 'Bedrooms', 'BldgGrade']\n",
    "house_data_poly = house_data[house_data['ZipCode'] == 98105].copy()\n",
    "house_data_poly = house_data_poly[features_poly]\n",
    "\n",
    "# For polynomial regressiong with statsmodels, should add np.power(X,degree) along with X as well\n",
    "result_poly = sm.OLS.from_formula(formula='AdjSalePrice ~ np.power(SqFtTotLiving,2) + SqFtTotLiving + SqFtLot + Bathrooms + Bedrooms + BldgGrade', data=house_data_poly).fit()\n",
    "\n",
    "result_poly.params"
   ]
  },
  {
   "cell_type": "code",
   "execution_count": 136,
   "metadata": {},
   "outputs": [
    {
     "data": {
      "image/png": "[encoded data removed]",
      "text/plain": [
       "<Figure size 640x480 with 1 Axes>"
      ]
     },
     "metadata": {},
     "output_type": "display_data"
    },
    {
     "data": {
      "text/plain": [
       "<ggplot: (8787621638762)>"
      ]
     },
     "execution_count": 136,
     "metadata": {},
     "output_type": "execute_result"
    }
   ],
   "source": [
    "poly_resid_df = pd.DataFrame(result_poly.resid, columns=['resid'])\n",
    "poly_resid_df['SqFtTotLiving'] = house_data_poly.SqFtTotLiving\n",
    "poly_resid_df['Terms'] = result_poly.params.SqFtTotLiving * poly_resid_df.SqFtTotLiving + \\\n",
    "                            result_poly.params['np.power(SqFtTotLiving, 2)'] * np.power(poly_resid_df.SqFtTotLiving, 2)\n",
    "poly_resid_df['PartialResid'] = poly_resid_df.resid + poly_resid_df.Terms\n",
    "\n",
    "(ggplot(poly_resid_df, aes(x='SqFtTotLiving', y='PartialResid')) +\n",
    "     geom_point() + scale_shape(solid=False) +\n",
    "     geom_smooth(colour='blue', linetype='solid') +\n",
    "     geom_line(aes(x='SqFtTotLiving',y='Terms'), linetype='dotted') +    \n",
    "     ggtitle('Partial Residual of Polynomial(SqFtTotLiving)')\n",
    ")"
   ]
  },
  {
   "cell_type": "markdown",
   "metadata": {},
   "source": [
    "### 7.2 스플라인 회귀(Spline Regression)\n",
    "\n",
    "* 다항회귀외에도 스플라인 회귀는 고정된 몇개의 점(Knots)들 사이에서 보간을 함으로써 부드럽게 곡선을 만들어주는 방법이다. \n",
    "\n",
    "* 고정된 몇개의 점 사이 구간을 개별적인 다항식을 만드는 방법이다.  그렇기 때문에 다항회귀보다 매우 복잡하지만, R이나 Python 패키지를 통해 이를 지원한다. \n",
    "\n",
    "* 아래 코드는 하위 사준위(0.25), 중위 사분위(0.5), 상위 사분위(0.75)를 고정된점으로 지정하고 B-Spline을 적용한 결과이다.\n",
    "\n",
    "  각 계수를 직접적으로 해석하기 어렵기 때문에, 시각화의 도움을 받아 그려보면 유연성이 뛰어난 것을 볼 수 있다.\n",
    "  \n",
    "  그러나 SqFtTotLiving 양끝단의 경우 예측결과가 맞지 않는 것으로 보인다."
   ]
  },
  {
   "cell_type": "code",
   "execution_count": 137,
   "metadata": {},
   "outputs": [
    {
     "data": {
      "text/plain": [
       "Intercept                                     -414157.613764\n",
       "bs(SqFtTotLiving, knots=knots, degree=3)[0]   -199529.756362\n",
       "bs(SqFtTotLiving, knots=knots, degree=3)[1]   -120580.638160\n",
       "bs(SqFtTotLiving, knots=knots, degree=3)[2]    -71644.393597\n",
       "bs(SqFtTotLiving, knots=knots, degree=3)[3]    195677.894512\n",
       "bs(SqFtTotLiving, knots=knots, degree=3)[4]    845244.251481\n",
       "bs(SqFtTotLiving, knots=knots, degree=3)[5]    695545.667728\n",
       "SqFtLot                                            33.325836\n",
       "Bathrooms                                       -4778.207979\n",
       "Bedrooms                                        -5778.704524\n",
       "BldgGrade                                      134462.374304\n",
       "dtype: float64"
      ]
     },
     "execution_count": 137,
     "metadata": {},
     "output_type": "execute_result"
    }
   ],
   "source": [
    "features_spline = ['AdjSalePrice', 'SqFtLot', 'SqFtTotLiving', 'Bathrooms', 'Bedrooms', 'BldgGrade']\n",
    "house_data_spline = house_data[house_data['ZipCode'] == 98105].copy()\n",
    "house_data_spline = house_data_spline[features_spline]\n",
    "knots = house_data_spline.SqFtTotLiving.quantile(q=[0.25, 0.5, 0.75])\n",
    "\n",
    "# For B-Spline Regression with statsmodels, bs() must be specified with df(degree of freedom) and knots\n",
    "result_spline = sm.OLS.from_formula(formula='AdjSalePrice ~ bs(SqFtTotLiving, knots=knots, degree=3) + SqFtLot + Bathrooms + Bedrooms + BldgGrade', data=house_data_spline).fit()\n",
    "\n",
    "result_spline.params"
   ]
  },
  {
   "cell_type": "markdown",
   "metadata": {},
   "source": [
    "* 파이썬에서는 다항식 spline을 지원하는 적절한 라이브러리를 못찾아서 책의 그림으로 대체\n",
    "\n",
    "<img src=\"https://www.oreilly.com/library/view/practical-statistics-for/9781491952955/assets/psds_0412.png\" alt=\"Drawing\" width=\"30%\" height=\"30%\"/>"
   ]
  },
  {
   "cell_type": "code",
   "execution_count": 138,
   "metadata": {},
   "outputs": [],
   "source": [
    "### couldn't find any equivalent python code to R\n",
    "#spline_resid_df = pd.DataFrame(result_spline.resid, columns=['resid'])\n",
    "#spline_resid_df['SqFtTotLiving'] = house_data_spline.SqFtTotLiving\n",
    "#spline_bs_coef = result_spline.params.iloc[1:4]\n",
    "#spline_resid_df['Terms'] = result_spline.params.SqFtTotLiving * spline_resid_df.SqFtTotLiving\n",
    "#spline_resid_df['PartialResid'] = spline_resid_df.resid + spline_resid_df.Terms\n",
    "\n",
    "#(ggplot(spline_resid_df, aes(x='SqFtTotLiving', y='PartialResid')) +\n",
    "#     geom_point() + scale_shape(solid=False) +\n",
    "#     geom_smooth(colour='blue', linetype='solid') +\n",
    "#     geom_line(aes(x='SqFtTotLiving',y='Terms'), linetype='dotted') +    \n",
    "#     ggtitle('Partial Residual of Polynomial(SqFtTotLiving)')\n",
    "#)"
   ]
  },
  {
   "cell_type": "code",
   "execution_count": 139,
   "metadata": {},
   "outputs": [],
   "source": [
    "## Try this later\n",
    "#from patsy import dmatrix\n",
    "\n",
    "#spline_resid_df = pd.DataFrame(result_spline.resid, columns=['resid'])\n",
    "#spline_resid_df['SqFtTotLiving'] = house_data_spline.SqFtTotLiving\n",
    "\n",
    "#transformed_x1 = dmatrix(\"bs(spline_resid_df.resid, knots=knots, degree=3, include_intercept=True)\",{\"SqFtToLiving\": spline_resid_df.SqFtTotLiving}, return_type='dataframe')\n",
    "#glm_fit = sm.GLM(spline_resid_df.SqFtTotLiving, transformed_x1).fit()\n",
    "#glm_fit.params\n",
    "\n",
    "#spline_resid_df['PartialResid'] = spline_resid_df.resid + transformed_x1.iloc[:,1]\n",
    "#plt.scatter(spline_resid_df.SqFtTotLiving, spline_resid_df.PartialResid)\n",
    "#plt.plot(x, y*b[1], color='k', linewidth=3)\n",
    "#plt.plot(x, y*b[2], color='b', linewidth=3)\n"
   ]
  },
  {
   "cell_type": "markdown",
   "metadata": {},
   "source": [
    "### 7.3 일반화가법모델(Generalized Additive Model, GAM)\n",
    "\n",
    "* 다항회귀는 유연성이 부족할 수 있으며, 스플라인회귀는 매듭을 어디로 할지 정해줘야하는 단점이 있다.\n",
    "\n",
    "* 일반화가법모델(GAM)은 스플라인회귀를 자동으로 찾는 기술이다."
   ]
  },
  {
   "cell_type": "code",
   "execution_count": 140,
   "metadata": {},
   "outputs": [],
   "source": [
    "### Couldn't find any equivalent GAM python code to R\n"
   ]
  },
  {
   "cell_type": "markdown",
   "metadata": {},
   "source": [
    "* 파이썬에서 GAM을 지원하는 적절한 라이브러리를 못찾아서 책의 그림으로 대체\n",
    "\n",
    "<img src=\"https://www.oreilly.com/library/view/practical-statistics-for/9781491952955/assets/psds_0413.png\" alt=\"Drawing\" width=\"30%\" height=\"30%\"/>"
   ]
  },
  {
   "cell_type": "code",
   "execution_count": null,
   "metadata": {},
   "outputs": [],
   "source": []
  }
 ],
 "metadata": {
  "kernelspec": {
   "display_name": "Python 3",
   "language": "python",
   "name": "python3"
  },
  "language_info": {
   "codemirror_mode": {
    "name": "ipython",
    "version": 3
   },
   "file_extension": ".py",
   "mimetype": "text/x-python",
   "name": "python",
   "nbconvert_exporter": "python",
   "pygments_lexer": "ipython3",
   "version": "3.6.8"
  }
 },
 "nbformat": 4,
 "nbformat_minor": 2
}
