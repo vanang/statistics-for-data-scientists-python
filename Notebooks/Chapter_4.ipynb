{
 "cells": [
  {
   "cell_type": "markdown",
   "metadata": {},
   "source": [
    "# 회귀와 예측\n",
    "\n",
    "## 주 내용\n",
    "\n",
    "### Main Sub-titles\n",
    "\n",
    "1. 단순 선형 회귀\n",
    "2. 다중 선형 회귀\n",
    "3. 회귀를 이용한 예측\n",
    "4. 회귀에서의 요인변수(범주형 변수)\n",
    "5. 회귀방정식(모델) 해석하기\n",
    "6. 가정들을 검증하기: 회귀 진단\n",
    "7. 다항 회귀와 스플라인 회귀: 비선형 회귀 다루기\n",
    "\n",
    "### 들어가면서\n",
    "\n",
    "통계학에서 일반적인 목표 중에 하나가 바로**예측**이다. \n"
   ]
  },
  {
   "cell_type": "code",
   "execution_count": 2,
   "metadata": {},
   "outputs": [],
   "source": [
    "import pandas as pd\n",
    "import numpy as np\n",
    "import statsmodels.api as sm\n",
    "\n",
    "from sklearn.linear_model import LinearRegression\n",
    "from sklearn.metrics import mean_squared_error\n",
    "from sklearn.ensemble import RandomForestRegressor\n",
    "from sklearn.model_selection import GridSearchCV\n",
    "import matplotlib.pyplot as plt\n",
    "%matplotlib inline"
   ]
  },
  {
   "cell_type": "markdown",
   "metadata": {},
   "source": [
    "## 1. 단순 선형 회귀\n",
    "* 단순 선형 회귀는 한 변수와 또 다른 변수의 크기 사이의 어떤 관계를 모델링한다. 1장에서 다룬 상관관계 역시 그 방법 중 하나이다.  \n",
    "\n",
    "* 상관관계는 두 변수 사이의 관련 강도를 측정이라면, 회귀는 관계 자체를 정량화 하는 것이다.\n",
    "\n",
    "* 기본적인 선형 회귀의 수식은 다음과 같다: $ Y_i = \\beta_0 + \\beta_1 X_i $\n",
    "\n",
    "    -  $ \\beta_0 $ 는 절편\n",
    "    -  $ \\beta_1 $ 는 기울기\n",
    "    -  $ Y_i $ 는 응답변수 또는 종속변수 (머신러닝에서는 목표)\n",
    "    -  $ X_i $ 는 예측변수 또는 독립변수 (머신러닝에서는 피처)    "
   ]
  },
  {
   "cell_type": "code",
   "execution_count": 3,
   "metadata": {
    "collapsed": true
   },
   "outputs": [],
   "source": [
    "lung_data = pd.read_csv('../data/LungDisease.csv')"
   ]
  },
  {
   "cell_type": "code",
   "execution_count": 4,
   "metadata": {},
   "outputs": [
    {
     "data": {
      "image/png": "[encoded data removed]",
      "text/plain": [
       "<Figure size 432x288 with 1 Axes>"
      ]
     },
     "metadata": {
      "needs_background": "light"
     },
     "output_type": "display_data"
    }
   ],
   "source": [
    "plt.scatter(lung_data['Exposure'],lung_data['PEFR'])\n",
    "plt.xlabel('Exposure')\n",
    "plt.ylabel('PEFR')\n",
    "plt.show()"
   ]
  },
  {
   "cell_type": "markdown",
   "metadata": {},
   "source": [
    "* 위 그림에서 단순 선형 회귀의 목적은 Exposure(면진에 대한 노출)로 응답변수 PEFR(폐활량)을 예측하기 위한 최선의 직선을 찾는 것이다.\n",
    "  \n",
    "  PEFR = $ b_0 + b_1노출 $"
   ]
  },
  {
   "cell_type": "code",
   "execution_count": 5,
   "metadata": {
    "collapsed": true
   },
   "outputs": [],
   "source": [
    "# initializing the input variables\n",
    "\n",
    "X = np.array(lung_data['Exposure']).reshape(-1,1)\n",
    "y = np.array(lung_data['PEFR']).reshape(-1,1)\n",
    "\n",
    "# initiating the object for Linear Regression\n",
    "lin_reg = LinearRegression()"
   ]
  },
  {
   "cell_type": "code",
   "execution_count": 6,
   "metadata": {},
   "outputs": [
    {
     "data": {
      "image/png": "[encoded data removed]",
      "text/plain": [
       "<Figure size 432x288 with 1 Axes>"
      ]
     },
     "metadata": {
      "needs_background": "light"
     },
     "output_type": "display_data"
    },
    {
     "name": "stdout",
     "output_type": "stream",
     "text": [
      "-----------------------------------------------------\n",
      "\n",
      "The main variables in the linear regression are:\n",
      "\n",
      "The Coefficient(b1) : [[-4.18457649]]\n",
      "The Intercept(b0) : [424.58280657]\n"
     ]
    }
   ],
   "source": [
    "lin_reg.fit(X,y)\n",
    "predictions = lin_reg.predict( X )\n",
    "\n",
    "plt.scatter(lung_data['Exposure'], lung_data['PEFR'] )\n",
    "plt.plot(X,predictions)\n",
    "plt.xlabel('Exposure')\n",
    "plt.ylabel('PEFR')\n",
    "plt.title('Linear Regression Fitted Line')\n",
    "plt.show()\n",
    "\n",
    "print('-----------------------------------------------------\\n')\n",
    "\n",
    "print('The main variables in the linear regression are:\\n')\n",
    "print('The Coefficient(b1) :',lin_reg.coef_)\n",
    "print('The Intercept(b0) :',lin_reg.intercept_)"
   ]
  },
  {
   "cell_type": "code",
   "execution_count": 7,
   "metadata": {
    "collapsed": true
   },
   "outputs": [],
   "source": [
    "# The error of the model will be:\n",
    "# the idea is to reduce this error:\n",
    "\n",
    "res_error = predictions"
   ]
  },
  {
   "cell_type": "markdown",
   "metadata": {},
   "source": [
    "### 어떻게 $ b_0 $와 $ b_1 $을 찾을 수 있을까?\n",
    "\n",
    "$ b_0 $와 $ b_1 $를 찾기 위한 방법은 최소제곱회귀 또는 보통최소제곱(Ordinary Least Squares, OLS)이다. \n",
    "\n",
    "$ \\hat b_1 = \\frac{\\sum(X_i – \\bar{X}) (Y_i – \\bar{Y})} {\\sum(X_i – \\bar{X})^2} $ \n",
    "\n",
    "$ \\hat b_0 = \\bar{Y} – \\hat b_1 \\bar{X} $\n",
    "\n",
    "- $ \\bar{X} $는 예측변수(피처)\n",
    "- $ \\bar{Y} $는 응답변수(결과값)\n"
   ]
  },
  {
   "cell_type": "markdown",
   "metadata": {},
   "source": [
    "## 2. 다중 선형 회귀\n",
    "\n",
    "* 예측변수가 여러 개인 경우, 단순 선형 회귀로는 예측이 가능하지 않다.  회귀 방정식은 아래와 같이 여러 개의 예측변수를 포함하도록 해야한다. \n",
    "\n",
    "  $ Y = b_0 + b_1X_1 + b_2X_2 + ... + b_pX_p + e $\n",
    "  \n",
    "* 이 회귀 모델은 직선은 아니겠지만, 각 예측변수와 계수간의 관계를 여전히 선형 모형이 된다.\n",
    "\n",
    "### 킹카운티 주택 정보 예제\n",
    "\n",
    "* 주어진 변수로부터 판매 금액을 예측하는 것이 목표이다.\n"
   ]
  },
  {
   "cell_type": "code",
   "execution_count": 8,
   "metadata": {
    "collapsed": true
   },
   "outputs": [],
   "source": [
    "house_data = pd.read_csv('../data/house_sales.csv',sep='\\t')"
   ]
  },
  {
   "cell_type": "code",
   "execution_count": 9,
   "metadata": {},
   "outputs": [
    {
     "name": "stdout",
     "output_type": "stream",
     "text": [
      "Error of Simple Linear Regression Model is : 381769.33881840616\n"
     ]
    }
   ],
   "source": [
    "# Simple Linear Regression\n",
    "X = np.array(house_data['SqFtLot']).reshape(-1,1)\n",
    "y = np.array(house_data['AdjSalePrice']).reshape(-1,1)\n",
    "\n",
    "lin_reg.fit(X,y)\n",
    "\n",
    "predictions_simple_linear_regression = lin_reg.predict(X)\n",
    "\n",
    "print('Error of Simple Linear Regression Model is :',mean_squared_error(predictions_simple_linear_regression,y)**(0.5))"
   ]
  },
  {
   "cell_type": "code",
   "execution_count": 10,
   "metadata": {},
   "outputs": [
    {
     "name": "stdout",
     "output_type": "stream",
     "text": [
      "Error of Multiple Linear Regression Model is : 261209.6915601493\n"
     ]
    }
   ],
   "source": [
    "# Multiple Linear Regression\n",
    "features = ['SqFtLot','SqFtTotLiving','Bathrooms','Bedrooms','BldgGrade']\n",
    "X = np.array(house_data[features])\n",
    "y = np.array(house_data['AdjSalePrice']).reshape(-1,1)\n",
    "\n",
    "lin_reg.fit(X,y)\n",
    "\n",
    "predictions_multiple_linear_regression = lin_reg.predict(X)\n",
    "\n",
    "print('Error of Multiple Linear Regression Model is :',mean_squared_error(predictions_multiple_linear_regression,y)**(0.5))"
   ]
  },
  {
   "cell_type": "code",
   "execution_count": 11,
   "metadata": {},
   "outputs": [
    {
     "data": {
      "text/html": [
       "<div>\n",
       "<style scoped>\n",
       "    .dataframe tbody tr th:only-of-type {\n",
       "        vertical-align: middle;\n",
       "    }\n",
       "\n",
       "    .dataframe tbody tr th {\n",
       "        vertical-align: top;\n",
       "    }\n",
       "\n",
       "    .dataframe thead th {\n",
       "        text-align: right;\n",
       "    }\n",
       "</style>\n",
       "<table border=\"1\" class=\"dataframe\">\n",
       "  <thead>\n",
       "    <tr style=\"text-align: right;\">\n",
       "      <th></th>\n",
       "      <th>SqFtLot</th>\n",
       "      <th>SqFtTotLiving</th>\n",
       "      <th>Bathrooms</th>\n",
       "      <th>Bedrooms</th>\n",
       "      <th>BldgGrade</th>\n",
       "    </tr>\n",
       "  </thead>\n",
       "  <tbody>\n",
       "    <tr>\n",
       "      <th>1</th>\n",
       "      <td>9373</td>\n",
       "      <td>2400</td>\n",
       "      <td>3.00</td>\n",
       "      <td>6</td>\n",
       "      <td>7</td>\n",
       "    </tr>\n",
       "    <tr>\n",
       "      <th>2</th>\n",
       "      <td>20156</td>\n",
       "      <td>3764</td>\n",
       "      <td>3.75</td>\n",
       "      <td>4</td>\n",
       "      <td>10</td>\n",
       "    </tr>\n",
       "    <tr>\n",
       "      <th>3</th>\n",
       "      <td>26036</td>\n",
       "      <td>2060</td>\n",
       "      <td>1.75</td>\n",
       "      <td>4</td>\n",
       "      <td>8</td>\n",
       "    </tr>\n",
       "    <tr>\n",
       "      <th>4</th>\n",
       "      <td>8618</td>\n",
       "      <td>3200</td>\n",
       "      <td>3.75</td>\n",
       "      <td>5</td>\n",
       "      <td>7</td>\n",
       "    </tr>\n",
       "    <tr>\n",
       "      <th>5</th>\n",
       "      <td>8620</td>\n",
       "      <td>1720</td>\n",
       "      <td>1.75</td>\n",
       "      <td>4</td>\n",
       "      <td>7</td>\n",
       "    </tr>\n",
       "  </tbody>\n",
       "</table>\n",
       "</div>"
      ],
      "text/plain": [
       "   SqFtLot  SqFtTotLiving  Bathrooms  Bedrooms  BldgGrade\n",
       "1     9373           2400       3.00         6          7\n",
       "2    20156           3764       3.75         4         10\n",
       "3    26036           2060       1.75         4          8\n",
       "4     8618           3200       3.75         5          7\n",
       "5     8620           1720       1.75         4          7"
      ]
     },
     "execution_count": 11,
     "metadata": {},
     "output_type": "execute_result"
    }
   ],
   "source": [
    "house_data[features].head(5)"
   ]
  },
  {
   "cell_type": "code",
   "execution_count": 12,
   "metadata": {
    "collapsed": true
   },
   "outputs": [
    {
     "name": "stdout",
     "output_type": "stream",
     "text": [
      "Intercept : -521924.722038\n",
      "SqFtLot : -6.050601e-02\n",
      "SqFtTotLiving : 2.288321e+02\n",
      "Bathrooms : -1.943810e+04\n",
      "Bedrooms : -4.778115e+04\n",
      "BldgGrade : 1.061172e+05\n"
     ]
    }
   ],
   "source": [
    "# Printing coefficients of the Multiple Linear Regression\n",
    "print('Intercept : %f'%lin_reg.intercept_) \n",
    "for idx in range(0, len(features)):\n",
    "    print(features[idx] + ' : %e'%lin_reg.coef_[0][idx])"
   ]
  },
  {
   "cell_type": "markdown",
   "metadata": {},
   "source": [
    "#### 모델에 대한 Coefficient 읽기\n",
    "* SqFtTotLiving: 229 --> 1제곱피트가 증가되면, 예상가격은 229달러 증가할 것이다."
   ]
  },
  {
   "cell_type": "markdown",
   "metadata": {},
   "source": [
    "### 모델 평가하기\n",
    "* **제곱근 평균 제곱 오차(Root Mean Square Error, RMSE)** 이 일반적으로 평가할 수 있는 방법이다.\n",
    "\n",
    "  $ RMSE = \\sqrt { \\sum_{i=1}^n (y_i - \\hat y_i)^2 \\over n } $\n",
    "  \n",
    "* 이와 유사한 **잔차 표준 오차(Residual Standard Error, RSE)** 도 있다. RMSE와의 차이점은 자유도를 고려($ p - 1 $)한 것이다.\n",
    "\n",
    "  빅데이터인 경우 둘 간의 차이는 거의 없다고 보면 된다. (n이 매우 크기 때문)\n",
    "\n",
    "  $ RSE = \\sqrt { \\sum_{i=1}^n (y_i - \\hat y_i)^2 \\over (n - p - 1) } $ , $ p $는 예측변수 개수\n",
    "  \n",
    "\n",
    "* **결정계수(R제곱 통계량, $ R^2 $)** 은 모델 데이터의 변동률을 측정하며 0 ~ 1까지의 범위로 표시된다.  수정 $ R^2 $는 자유도를 고려하여 수정된 결정 계수로 다중 회귀 분석에서는 크게 달라지지 않는다.\n",
    "\n",
    "  $ R^2 = 1 - { {\\sum_{i=1}^n ( y_i - \\hat y_i)^2} \\over {\\sum_{i=1}^n ( y_i - \\bar y_i)^2}} $\n",
    "  \n",
    "* **t 통계량** 이 높을 수록 그 에측변수는 유의미하다고 해석하면 된다. (또는 p값이 낮을수록)  \n",
    "\n",
    "  $ t_k = {\\hat b \\over SE (\\hat b) } $\n"
   ]
  },
  {
   "cell_type": "code",
   "execution_count": 13,
   "metadata": {},
   "outputs": [
    {
     "data": {
      "text/html": [
       "<table class=\"simpletable\">\n",
       "<caption>OLS Regression Results</caption>\n",
       "<tr>\n",
       "  <th>Dep. Variable:</th>      <td>AdjSalePrice</td>   <th>  R-squared:         </th>  <td>   0.541</td>  \n",
       "</tr>\n",
       "<tr>\n",
       "  <th>Model:</th>                   <td>OLS</td>       <th>  Adj. R-squared:    </th>  <td>   0.541</td>  \n",
       "</tr>\n",
       "<tr>\n",
       "  <th>Method:</th>             <td>Least Squares</td>  <th>  F-statistic:       </th>  <td>   5340.</td>  \n",
       "</tr>\n",
       "<tr>\n",
       "  <th>Date:</th>             <td>Sat, 09 Mar 2019</td> <th>  Prob (F-statistic):</th>   <td>  0.00</td>   \n",
       "</tr>\n",
       "<tr>\n",
       "  <th>Time:</th>                 <td>01:13:48</td>     <th>  Log-Likelihood:    </th> <td>-3.1520e+05</td>\n",
       "</tr>\n",
       "<tr>\n",
       "  <th>No. Observations:</th>      <td> 22689</td>      <th>  AIC:               </th>  <td>6.304e+05</td> \n",
       "</tr>\n",
       "<tr>\n",
       "  <th>Df Residuals:</th>          <td> 22683</td>      <th>  BIC:               </th>  <td>6.305e+05</td> \n",
       "</tr>\n",
       "<tr>\n",
       "  <th>Df Model:</th>              <td>     5</td>      <th>                     </th>      <td> </td>     \n",
       "</tr>\n",
       "<tr>\n",
       "  <th>Covariance Type:</th>      <td>nonrobust</td>    <th>                     </th>      <td> </td>     \n",
       "</tr>\n",
       "</table>\n",
       "<table class=\"simpletable\">\n",
       "<tr>\n",
       "        <td></td>           <th>coef</th>     <th>std err</th>      <th>t</th>      <th>P>|t|</th>  <th>[0.025</th>    <th>0.975]</th>  \n",
       "</tr>\n",
       "<tr>\n",
       "  <th>Intercept</th>     <td>-5.219e+05</td> <td> 1.57e+04</td> <td>  -33.349</td> <td> 0.000</td> <td>-5.53e+05</td> <td>-4.91e+05</td>\n",
       "</tr>\n",
       "<tr>\n",
       "  <th>SqFtLot</th>       <td>   -0.0605</td> <td>    0.061</td> <td>   -0.989</td> <td> 0.323</td> <td>   -0.180</td> <td>    0.059</td>\n",
       "</tr>\n",
       "<tr>\n",
       "  <th>SqFtTotLiving</th> <td>  228.8321</td> <td>    3.898</td> <td>   58.699</td> <td> 0.000</td> <td>  221.191</td> <td>  236.473</td>\n",
       "</tr>\n",
       "<tr>\n",
       "  <th>Bathrooms</th>     <td>-1.944e+04</td> <td> 3625.219</td> <td>   -5.362</td> <td> 0.000</td> <td>-2.65e+04</td> <td>-1.23e+04</td>\n",
       "</tr>\n",
       "<tr>\n",
       "  <th>Bedrooms</th>      <td>-4.778e+04</td> <td> 2489.443</td> <td>  -19.194</td> <td> 0.000</td> <td>-5.27e+04</td> <td>-4.29e+04</td>\n",
       "</tr>\n",
       "<tr>\n",
       "  <th>BldgGrade</th>     <td> 1.061e+05</td> <td> 2396.136</td> <td>   44.287</td> <td> 0.000</td> <td> 1.01e+05</td> <td> 1.11e+05</td>\n",
       "</tr>\n",
       "</table>\n",
       "<table class=\"simpletable\">\n",
       "<tr>\n",
       "  <th>Omnibus:</th>       <td>29679.186</td> <th>  Durbin-Watson:     </th>   <td>   1.247</td>  \n",
       "</tr>\n",
       "<tr>\n",
       "  <th>Prob(Omnibus):</th>  <td> 0.000</td>   <th>  Jarque-Bera (JB):  </th> <td>19394127.212</td>\n",
       "</tr>\n",
       "<tr>\n",
       "  <th>Skew:</th>           <td> 6.889</td>   <th>  Prob(JB):          </th>   <td>    0.00</td>  \n",
       "</tr>\n",
       "<tr>\n",
       "  <th>Kurtosis:</th>       <td>145.565</td>  <th>  Cond. No.          </th>   <td>2.86e+05</td>  \n",
       "</tr>\n",
       "</table><br/><br/>Warnings:<br/>[1] Standard Errors assume that the covariance matrix of the errors is correctly specified.<br/>[2] The condition number is large, 2.86e+05. This might indicate that there are<br/>strong multicollinearity or other numerical problems."
      ],
      "text/plain": [
       "<class 'statsmodels.iolib.summary.Summary'>\n",
       "\"\"\"\n",
       "                            OLS Regression Results                            \n",
       "==============================================================================\n",
       "Dep. Variable:           AdjSalePrice   R-squared:                       0.541\n",
       "Model:                            OLS   Adj. R-squared:                  0.541\n",
       "Method:                 Least Squares   F-statistic:                     5340.\n",
       "Date:                Sat, 09 Mar 2019   Prob (F-statistic):               0.00\n",
       "Time:                        01:13:48   Log-Likelihood:            -3.1520e+05\n",
       "No. Observations:               22689   AIC:                         6.304e+05\n",
       "Df Residuals:                   22683   BIC:                         6.305e+05\n",
       "Df Model:                           5                                         \n",
       "Covariance Type:            nonrobust                                         \n",
       "=================================================================================\n",
       "                    coef    std err          t      P>|t|      [0.025      0.975]\n",
       "---------------------------------------------------------------------------------\n",
       "Intercept     -5.219e+05   1.57e+04    -33.349      0.000   -5.53e+05   -4.91e+05\n",
       "SqFtLot          -0.0605      0.061     -0.989      0.323      -0.180       0.059\n",
       "SqFtTotLiving   228.8321      3.898     58.699      0.000     221.191     236.473\n",
       "Bathrooms     -1.944e+04   3625.219     -5.362      0.000   -2.65e+04   -1.23e+04\n",
       "Bedrooms      -4.778e+04   2489.443    -19.194      0.000   -5.27e+04   -4.29e+04\n",
       "BldgGrade      1.061e+05   2396.136     44.287      0.000    1.01e+05    1.11e+05\n",
       "==============================================================================\n",
       "Omnibus:                    29679.186   Durbin-Watson:                   1.247\n",
       "Prob(Omnibus):                  0.000   Jarque-Bera (JB):         19394127.212\n",
       "Skew:                           6.889   Prob(JB):                         0.00\n",
       "Kurtosis:                     145.565   Cond. No.                     2.86e+05\n",
       "==============================================================================\n",
       "\n",
       "Warnings:\n",
       "[1] Standard Errors assume that the covariance matrix of the errors is correctly specified.\n",
       "[2] The condition number is large, 2.86e+05. This might indicate that there are\n",
       "strong multicollinearity or other numerical problems.\n",
       "\"\"\""
      ]
     },
     "execution_count": 13,
     "metadata": {},
     "output_type": "execute_result"
    }
   ],
   "source": [
    "features.append('AdjSalePrice')\n",
    "featured_house_data = house_data[features]\n",
    "result = sm.OLS.from_formula(formula='AdjSalePrice ~ SqFtLot + SqFtTotLiving + Bathrooms + Bedrooms + BldgGrade', data=featured_house_data).fit()\n",
    "features.remove('AdjSalePrice')\n",
    "result.summary()"
   ]
  },
  {
   "cell_type": "markdown",
   "metadata": {},
   "source": [
    "### 교차타당성검사(Cross-Validation, CV)\n",
    "\n",
    "* 홀드아웃(Hold-out)은 원래 주어졌던 데이터의 일부를 떼어놓고, 모델을 만든 후 모델의 성능을 확인하는 데 사용하기 위한 표본이다.\n",
    "\n",
    "* 데이터가 작다면, 작은 홀드아웃으로 인해 샘플의 변동성으로 인해 불확실성을 초래할 수 있다. 즉, 홀드아웃의 선택에 따라 모델의 성능 평가가 달라지게 된다.\n",
    "\n",
    "* 교차타당성검사는 여러 번의 훈련시 각기 다른 홀드아웃으로 평가 후, 최종 모델 평가 지표를 평균과 같은 방법으로 산출하는 방법이다.  홀드아웃이 모든 레코드를 커버하도록 수행한다."
   ]
  },
  {
   "cell_type": "markdown",
   "metadata": {},
   "source": [
    "### 모형 선택과 단계적 회귀\n",
    "\n",
    "* 많은 변수를 넣는 다고 좋은 모델을 얻을 수 있는 것은 아니다. 동일한 조건에서는 단순한 모델을 우선 사용하는 것이 좋다(오컴의 면도날).\n",
    "\n",
    "* 변수를 추가하면 일반적으로 RMSE는 감소하고 $ R^2 $는 증가한다.  무조건 많은 변수를 추가할 수 있기 때문에 좋은 모델을 얻는데 도움이 되지 않을 수도 있다.\n",
    "\n",
    "* AIC(Akaike's information criteria)는 모델에 항이 추가 될 수록 불이익을 주는 지표이다.\n",
    "\n",
    "  $ AIC = 2P + n log({RSS \\over n}) $, $P$는 변수의 개수, $n$은 레코드개수, $RSS$는 잔차제곱합\n",
    "\n",
    "* AIC 지표를 활용하여, 부분집합회귀(All Subset Regression) 방법을 최적의 모델을 찾을 수도 있다.  그러나, 비용이 비싸고, 변수가 많은 경우 부분집합수가 기하급수적으로 늘 수 있다.\n",
    "\n",
    "* 대안으로 단계적회귀(Stepwise Regression)을 사용할 수 있다.  단계적회귀에서는 변수를 추가/삭제하면서 AIC가 최소화되는 모델을 찾을 수 있다.  \n",
    " * 전진선택(Forward Selection): 변수없이 시작하여 $R^2$에 기여도가 큰 변수를 하나씩 추가해가면서 기여도가 유의미 하지 않을 때 까지 진행.\n",
    " * 후진제거(Backward Selection): 전체 변수에서 시작하여 유의미한 모델이 될때까지, 기여도가 없는 변수를 제거해나가는 반식.\n",
    " * 벌점회쉬(Penalized Selection): AIC와 개념적으로 유사. 차이점은 변수를 완전히 제거하는 것이 아니라 변수의 계수의 가중치를 감소시키거나 0으로 만든다. (Regularization 개념)\n"
   ]
  },
  {
   "cell_type": "markdown",
   "metadata": {},
   "source": [
    "### 가중회귀\n",
    "\n",
    "* 특정한 조건의 레코드에 대해 가중치를 부여하는 회귀 방식이다.\n",
    "\n",
    "* 예를 들어, 주택 가격 데이터에서 오래된 매매 정보일수록 신뢰하기 어렵기때문에, 회귀모델에 낮은 가중치를 갖도록 하는 것이 좋다.  "
   ]
  },
  {
   "cell_type": "code",
   "execution_count": 15,
   "metadata": {},
   "outputs": [
    {
     "name": "stdout",
     "output_type": "stream",
     "text": [
      "Error of Weighted Linear Regression Model is : 261897.61980366008\n"
     ]
    }
   ],
   "source": [
    "# creating weighted features\n",
    "\n",
    "# initiating the object for Linear Regression\n",
    "wlin_reg = LinearRegression()\n",
    "\n",
    "#Transform YYYY-MM-DD datetime to YYYY date and calculate weights based on 2005\n",
    "weighted_house_year = pd.to_datetime(house_data['DocumentDate'])\n",
    "weighted_house_year = weighted_house_year.apply(lambda x: x.strftime('%Y')).astype(int)\n",
    "weighted_house_year = weighted_house_year - 2005\n",
    "\n",
    "weighted_features = ['SqFtTotLiving', 'SqFtLot', 'Bathrooms', 'Bedrooms', 'BldgGrade']\n",
    "\n",
    "X = np.array(house_data[weighted_features])\n",
    "y = np.array(house_data['AdjSalePrice']).reshape(-1,1)\n",
    "\n",
    "wlin_reg.fit(X,y, sample_weight=weighted_house_year)\n",
    "\n",
    "predictions_weighted_linear_regression = wlin_reg.predict(X)\n",
    "\n",
    "print('Error of Weighted Linear Regression Model is :',mean_squared_error(predictions_weighted_linear_regression,y)**(0.5))\n"
   ]
  },
  {
   "cell_type": "code",
   "execution_count": 16,
   "metadata": {},
   "outputs": [
    {
     "name": "stdout",
     "output_type": "stream",
     "text": [
      "Intercept : -521924.722038\n",
      "SqFtTotLiving : 2.450173e+02\n",
      "SqFtLot : -2.924287e-01\n",
      "Bathrooms : -2.607917e+04\n",
      "Bedrooms : -5.362540e+04\n",
      "BldgGrade : 1.152590e+05\n"
     ]
    }
   ],
   "source": [
    "# Printing coefficients of the Weighted Linear Regression\n",
    "print('Intercept : %f'%lin_reg.intercept_) \n",
    "for idx in range(0, len(weighted_features)):\n",
    "    print(weighted_features[idx] + ' : %e'%wlin_reg.coef_[0][idx])"
   ]
  },
  {
   "cell_type": "markdown",
   "metadata": {},
   "source": [
    "## 3. 회귀를 이용한 예측\n",
    "\n",
    "* 회귀모델을 이용하여 예측시, 학습한 데이터 범위를 초과(Extrapolation)하면서까지 사용하는 것은 황당한 예측 결과를 초래할 수 있음을 명심해야 한다.\n",
    "\n",
    "* 회귀를 이용한 예측에서 예측값의 불확실성은 회귀 모델 계수의 불확실성, 개발 데이터 값에 존재하는 오류에서 기인한다.  신뢰구간과 예측구간이 이를 정량화하는 방법이다.\n",
    "\n",
    "### 신뢰구간과 예측구간\n",
    "\n",
    "* 일반적으로 다루는 회귀모델 신뢰구간은 계수에 대한 **신뢰구간**이다. 다음의 과정을 거쳐 계수에 대한 신뢰구간을 생성한다.\n",
    " 1. $n$개의 레코드를 준비한다.\n",
    " 2. 무작위 복원추출(표본추출후 다시 복원) 방식으로 $n$개의 레코드를 구성하여 부트스트랩 재표본을 하나 만든다.\n",
    " 3. 2의 재표본으로 회귀 모형을 만글고, 추정된 계수들을 기록한다.\n",
    " 4. 2-3 과정을 1000회 반복한다.\n",
    " 5. 각 계수가 1000개의 부트스트랩별 값을 갖게된다.  \n",
    " 6. 각 계수에 대해 백분위수와 신뢰구간을 구한다.(ex. 90%신뢰구간은 5~95 번째 백분위수)\n",
    "\n",
    "\n",
    "* 회귀계수의 **신뢰구간을 통해 불확실성을 정량화** 할 수 있다. (재표본별 회귀모델이 다르기 때문에, 동일한 레코드에 대해서 다른 예측을 할수 있다)\n",
    "\n",
    "* 예측구간은 **회귀 모델로부터 얻은 예측값에 대한 신뢰구간**이다.  동일한 값을 가진 데이터라 하더라도, 예측값이 달라질 수 있다.  이 예측값에 대한 신뢰구간 역시 부트스트랩을 통해 잔차를 구해 모델링할 수 있다.\n",
    " "
   ]
  },
  {
   "cell_type": "markdown",
   "metadata": {},
   "source": [
    "## 4. 회귀에서늬 요인변수(범주형변수)\n",
    "\n",
    "* 범주형변수(Categorical Variable) 또는 요인변수(Factor Variable)는 개수가 제한된 이산값을 가진 데이터 종류이다. \n",
    "\n",
    "* 회귀분석은 수치형 데이터만을 입력값으로 받기 때문에 범주형 변수는 수치형으로 변경해야한다.\n",
    "\n",
    "### 원-핫 인코딩 (가변수 표현)\n",
    "\n",
    "* 범주의 개수 - 1 만큼 가변수(Dummy Variable)를 생성하여, 유무여부를 0/1로 해당 가변수에 표현하는 방법이다.\n",
    "\n",
    "* 범주개수만큼 가변수를 생성하면 다중공선성(Multilinearity?)가 발생할 수 있다."
   ]
  },
  {
   "cell_type": "code",
   "execution_count": 17,
   "metadata": {},
   "outputs": [
    {
     "data": {
      "text/plain": [
       "1         Multiplex\n",
       "2     Single Family\n",
       "3     Single Family\n",
       "4     Single Family\n",
       "5     Single Family\n",
       "6         Townhouse\n",
       "7     Single Family\n",
       "8     Single Family\n",
       "9     Single Family\n",
       "10        Multiplex\n",
       "Name: PropertyType, dtype: object"
      ]
     },
     "execution_count": 17,
     "metadata": {},
     "output_type": "execute_result"
    }
   ],
   "source": [
    "house_data.PropertyType.head(10)"
   ]
  },
  {
   "cell_type": "code",
   "execution_count": 18,
   "metadata": {},
   "outputs": [
    {
     "data": {
      "text/html": [
       "<div>\n",
       "<style scoped>\n",
       "    .dataframe tbody tr th:only-of-type {\n",
       "        vertical-align: middle;\n",
       "    }\n",
       "\n",
       "    .dataframe tbody tr th {\n",
       "        vertical-align: top;\n",
       "    }\n",
       "\n",
       "    .dataframe thead th {\n",
       "        text-align: right;\n",
       "    }\n",
       "</style>\n",
       "<table border=\"1\" class=\"dataframe\">\n",
       "  <thead>\n",
       "    <tr style=\"text-align: right;\">\n",
       "      <th></th>\n",
       "      <th>DocumentDate</th>\n",
       "      <th>SalePrice</th>\n",
       "      <th>PropertyID</th>\n",
       "      <th>PropertyType</th>\n",
       "      <th>ym</th>\n",
       "      <th>zhvi_px</th>\n",
       "      <th>zhvi_idx</th>\n",
       "      <th>AdjSalePrice</th>\n",
       "      <th>NbrLivingUnits</th>\n",
       "      <th>SqFtLot</th>\n",
       "      <th>...</th>\n",
       "      <th>YrBuilt</th>\n",
       "      <th>YrRenovated</th>\n",
       "      <th>TrafficNoise</th>\n",
       "      <th>LandVal</th>\n",
       "      <th>ImpsVal</th>\n",
       "      <th>ZipCode</th>\n",
       "      <th>NewConstruction</th>\n",
       "      <th>Multiplex</th>\n",
       "      <th>Single Family</th>\n",
       "      <th>Townhouse</th>\n",
       "    </tr>\n",
       "  </thead>\n",
       "  <tbody>\n",
       "    <tr>\n",
       "      <th>1</th>\n",
       "      <td>2014-09-16</td>\n",
       "      <td>280000</td>\n",
       "      <td>1000102</td>\n",
       "      <td>Multiplex</td>\n",
       "      <td>2014-09-01</td>\n",
       "      <td>405100</td>\n",
       "      <td>0.930836</td>\n",
       "      <td>300805.0</td>\n",
       "      <td>2</td>\n",
       "      <td>9373</td>\n",
       "      <td>...</td>\n",
       "      <td>1991</td>\n",
       "      <td>0</td>\n",
       "      <td>0</td>\n",
       "      <td>70000</td>\n",
       "      <td>229000</td>\n",
       "      <td>98002</td>\n",
       "      <td>False</td>\n",
       "      <td>1</td>\n",
       "      <td>0</td>\n",
       "      <td>0</td>\n",
       "    </tr>\n",
       "    <tr>\n",
       "      <th>2</th>\n",
       "      <td>2006-06-16</td>\n",
       "      <td>1000000</td>\n",
       "      <td>1200013</td>\n",
       "      <td>Single Family</td>\n",
       "      <td>2006-06-01</td>\n",
       "      <td>404400</td>\n",
       "      <td>0.929228</td>\n",
       "      <td>1076162.0</td>\n",
       "      <td>1</td>\n",
       "      <td>20156</td>\n",
       "      <td>...</td>\n",
       "      <td>2005</td>\n",
       "      <td>0</td>\n",
       "      <td>0</td>\n",
       "      <td>203000</td>\n",
       "      <td>590000</td>\n",
       "      <td>98166</td>\n",
       "      <td>True</td>\n",
       "      <td>0</td>\n",
       "      <td>1</td>\n",
       "      <td>0</td>\n",
       "    </tr>\n",
       "    <tr>\n",
       "      <th>3</th>\n",
       "      <td>2007-01-29</td>\n",
       "      <td>745000</td>\n",
       "      <td>1200019</td>\n",
       "      <td>Single Family</td>\n",
       "      <td>2007-01-01</td>\n",
       "      <td>425600</td>\n",
       "      <td>0.977941</td>\n",
       "      <td>761805.0</td>\n",
       "      <td>1</td>\n",
       "      <td>26036</td>\n",
       "      <td>...</td>\n",
       "      <td>1947</td>\n",
       "      <td>0</td>\n",
       "      <td>0</td>\n",
       "      <td>183000</td>\n",
       "      <td>275000</td>\n",
       "      <td>98166</td>\n",
       "      <td>False</td>\n",
       "      <td>0</td>\n",
       "      <td>1</td>\n",
       "      <td>0</td>\n",
       "    </tr>\n",
       "    <tr>\n",
       "      <th>4</th>\n",
       "      <td>2008-02-25</td>\n",
       "      <td>425000</td>\n",
       "      <td>2800016</td>\n",
       "      <td>Single Family</td>\n",
       "      <td>2008-02-01</td>\n",
       "      <td>418400</td>\n",
       "      <td>0.961397</td>\n",
       "      <td>442065.0</td>\n",
       "      <td>1</td>\n",
       "      <td>8618</td>\n",
       "      <td>...</td>\n",
       "      <td>1966</td>\n",
       "      <td>0</td>\n",
       "      <td>0</td>\n",
       "      <td>104000</td>\n",
       "      <td>229000</td>\n",
       "      <td>98168</td>\n",
       "      <td>False</td>\n",
       "      <td>0</td>\n",
       "      <td>1</td>\n",
       "      <td>0</td>\n",
       "    </tr>\n",
       "    <tr>\n",
       "      <th>5</th>\n",
       "      <td>2013-03-29</td>\n",
       "      <td>240000</td>\n",
       "      <td>2800024</td>\n",
       "      <td>Single Family</td>\n",
       "      <td>2013-03-01</td>\n",
       "      <td>351600</td>\n",
       "      <td>0.807904</td>\n",
       "      <td>297065.0</td>\n",
       "      <td>1</td>\n",
       "      <td>8620</td>\n",
       "      <td>...</td>\n",
       "      <td>1948</td>\n",
       "      <td>0</td>\n",
       "      <td>0</td>\n",
       "      <td>104000</td>\n",
       "      <td>205000</td>\n",
       "      <td>98168</td>\n",
       "      <td>False</td>\n",
       "      <td>0</td>\n",
       "      <td>1</td>\n",
       "      <td>0</td>\n",
       "    </tr>\n",
       "  </tbody>\n",
       "</table>\n",
       "<p>5 rows × 25 columns</p>\n",
       "</div>"
      ],
      "text/plain": [
       "  DocumentDate  SalePrice  PropertyID   PropertyType          ym  zhvi_px  \\\n",
       "1   2014-09-16     280000     1000102      Multiplex  2014-09-01   405100   \n",
       "2   2006-06-16    1000000     1200013  Single Family  2006-06-01   404400   \n",
       "3   2007-01-29     745000     1200019  Single Family  2007-01-01   425600   \n",
       "4   2008-02-25     425000     2800016  Single Family  2008-02-01   418400   \n",
       "5   2013-03-29     240000     2800024  Single Family  2013-03-01   351600   \n",
       "\n",
       "   zhvi_idx  AdjSalePrice  NbrLivingUnits  SqFtLot  ...  YrBuilt  YrRenovated  \\\n",
       "1  0.930836      300805.0               2     9373  ...     1991            0   \n",
       "2  0.929228     1076162.0               1    20156  ...     2005            0   \n",
       "3  0.977941      761805.0               1    26036  ...     1947            0   \n",
       "4  0.961397      442065.0               1     8618  ...     1966            0   \n",
       "5  0.807904      297065.0               1     8620  ...     1948            0   \n",
       "\n",
       "   TrafficNoise  LandVal  ImpsVal  ZipCode  NewConstruction  Multiplex  \\\n",
       "1             0    70000   229000    98002            False          1   \n",
       "2             0   203000   590000    98166             True          0   \n",
       "3             0   183000   275000    98166            False          0   \n",
       "4             0   104000   229000    98168            False          0   \n",
       "5             0   104000   205000    98168            False          0   \n",
       "\n",
       "   Single Family  Townhouse  \n",
       "1              0          0  \n",
       "2              1          0  \n",
       "3              1          0  \n",
       "4              1          0  \n",
       "5              1          0  \n",
       "\n",
       "[5 rows x 25 columns]"
      ]
     },
     "execution_count": 18,
     "metadata": {},
     "output_type": "execute_result"
    }
   ],
   "source": [
    "# Using sklearn to generate one-hot encoded property type from house_data\n",
    "#from sklearn.preprocessing import OneHotEncoder\n",
    "#ohe = OneHotEncoder(sparse=False)\n",
    "#house_property = np.array(house_data['PropertyType'])\n",
    "#house_property = house_property.reshape(-1, 1)\n",
    "#house_property = ohe.fit_transform(house_property)\n",
    "\n",
    "# Using pandas for same operation\n",
    "house_property = pd.get_dummies(house_data['PropertyType'])\n",
    "house_data = pd.concat([house_data, house_property], axis=1, sort=False)\n",
    "house_data.head()"
   ]
  },
  {
   "cell_type": "code",
   "execution_count": 27,
   "metadata": {},
   "outputs": [
    {
     "name": "stdout",
     "output_type": "stream",
     "text": [
      "Error of OHE Linear Regression Model is : 260961.0517340946\n"
     ]
    }
   ],
   "source": [
    "# From 'Multiplex', 'Single Family', 'Townhouse', added only 'Single Family' and 'Townhouse' for avoiding multilinearity\n",
    "# initiating the object for Linear Regression\n",
    "ohe_lin_reg = LinearRegression()\n",
    "\n",
    "# OHE Linear Regression\n",
    "ohe_features = ['SqFtLot','SqFtTotLiving','Bathrooms','Bedrooms','BldgGrade', 'Single Family', 'Townhouse']\n",
    "X = np.array(house_data[ohe_features])\n",
    "y = np.array(house_data['AdjSalePrice']).reshape(-1,1)\n",
    "\n",
    "ohe_lin_reg.fit(X,y)\n",
    "\n",
    "predictions_ohe_linear_regression = ohe_lin_reg.predict(X)\n",
    "\n",
    "print('Error of OHE Linear Regression Model is :',mean_squared_error(predictions_ohe_linear_regression,y)**(0.5))"
   ]
  },
  {
   "cell_type": "code",
   "execution_count": 20,
   "metadata": {},
   "outputs": [
    {
     "name": "stdout",
     "output_type": "stream",
     "text": [
      "Intercept : -521924.722038\n",
      "SqFtLot : -7.041336e-02\n",
      "SqFtTotLiving : 2.233739e+02\n",
      "Bathrooms : -1.597313e+04\n",
      "Bedrooms : -5.090060e+04\n",
      "BldgGrade : 1.094262e+05\n",
      "Single Family : -8.469138e+04\n",
      "Townhouse : -1.151471e+05\n"
     ]
    }
   ],
   "source": [
    "# Printing coefficients of the OHE Linear Regression\n",
    "print('Intercept : %f'%lin_reg.intercept_) \n",
    "for idx in range(0, len(ohe_features)):\n",
    "    print(ohe_features[idx] + ' : %e'%ohe_lin_reg.coef_[0][idx])"
   ]
  },
  {
   "cell_type": "markdown",
   "metadata": {},
   "source": [
    "* 계수에 대한 해석: 생략한 Multiplex에 비한 상대적인 값으로 해석해야 한다.\n",
    " * Single Family는 Multiplex에 비해 85,000달러 정도 가치가 낮고, \n",
    " * Townhouse는 150,000 달러 정도 가치가 낮다."
   ]
  },
  {
   "cell_type": "markdown",
   "metadata": {},
   "source": [
    "### 범주의 크기가 매우 큰 변수들\n",
    "\n",
    "* 어떤 범주는 그 수가 매우 커서 많은 양의 가변수를 생성해야만 하는 경우가 있다.  예륻 들어, 주택 가격 정보에서 지역정보를 대표할 수 있는 우편번호, 법정동코드 등이 그 예이다.  \n",
    "\n",
    "* 매매가격과 같은 다른 변수와 그룹으로 묶거나, 초기 모델의 잔차를 이용하여 묶는 방법도 있다.  \n",
    "\n",
    "* 아래 코드는 첫 번째 모델(킹카운티 주택가격예측)의 잔차를 이용하여 82개의 우편번호(ZipCode)로 대표되는 위치 정보를 반영한 그룹핑을 하는 코드이다.  가장 저렴한 지역에서 비싼 지역까지 5단계로 나누어 그룹핑을 한다.\n"
   ]
  },
  {
   "cell_type": "code",
   "execution_count": 21,
   "metadata": {},
   "outputs": [
    {
     "data": {
      "text/plain": [
       "82"
      ]
     },
     "execution_count": 21,
     "metadata": {},
     "output_type": "execute_result"
    }
   ],
   "source": [
    "# Number of zip codes in house_data\n",
    "len(house_data.ZipCode.unique())"
   ]
  },
  {
   "cell_type": "code",
   "execution_count": 151,
   "metadata": {},
   "outputs": [
    {
     "data": {
      "text/html": [
       "<div>\n",
       "<style scoped>\n",
       "    .dataframe tbody tr th:only-of-type {\n",
       "        vertical-align: middle;\n",
       "    }\n",
       "\n",
       "    .dataframe tbody tr th {\n",
       "        vertical-align: top;\n",
       "    }\n",
       "\n",
       "    .dataframe thead th {\n",
       "        text-align: right;\n",
       "    }\n",
       "</style>\n",
       "<table border=\"1\" class=\"dataframe\">\n",
       "  <thead>\n",
       "    <tr style=\"text-align: right;\">\n",
       "      <th></th>\n",
       "      <th>DocumentDate</th>\n",
       "      <th>SalePrice</th>\n",
       "      <th>PropertyID</th>\n",
       "      <th>PropertyType</th>\n",
       "      <th>ym</th>\n",
       "      <th>zhvi_px</th>\n",
       "      <th>zhvi_idx</th>\n",
       "      <th>AdjSalePrice</th>\n",
       "      <th>NbrLivingUnits</th>\n",
       "      <th>SqFtLot</th>\n",
       "      <th>...</th>\n",
       "      <th>NewConstruction</th>\n",
       "      <th>Multiplex</th>\n",
       "      <th>Single Family</th>\n",
       "      <th>Townhouse</th>\n",
       "      <th>ZipGroup</th>\n",
       "      <th>ZipGroup1</th>\n",
       "      <th>ZipGroup2</th>\n",
       "      <th>ZipGroup3</th>\n",
       "      <th>ZipGroup4</th>\n",
       "      <th>ZipGroup5</th>\n",
       "    </tr>\n",
       "  </thead>\n",
       "  <tbody>\n",
       "    <tr>\n",
       "      <th>0</th>\n",
       "      <td>2014-09-16</td>\n",
       "      <td>280000</td>\n",
       "      <td>1000102</td>\n",
       "      <td>Multiplex</td>\n",
       "      <td>2014-09-01</td>\n",
       "      <td>405100</td>\n",
       "      <td>0.930836</td>\n",
       "      <td>300805.0</td>\n",
       "      <td>2</td>\n",
       "      <td>9373</td>\n",
       "      <td>...</td>\n",
       "      <td>False</td>\n",
       "      <td>1</td>\n",
       "      <td>0</td>\n",
       "      <td>0</td>\n",
       "      <td>ZipGroup3</td>\n",
       "      <td>0</td>\n",
       "      <td>0</td>\n",
       "      <td>1</td>\n",
       "      <td>0</td>\n",
       "      <td>0</td>\n",
       "    </tr>\n",
       "    <tr>\n",
       "      <th>1</th>\n",
       "      <td>2006-06-16</td>\n",
       "      <td>1000000</td>\n",
       "      <td>1200013</td>\n",
       "      <td>Single Family</td>\n",
       "      <td>2006-06-01</td>\n",
       "      <td>404400</td>\n",
       "      <td>0.929228</td>\n",
       "      <td>1076162.0</td>\n",
       "      <td>1</td>\n",
       "      <td>20156</td>\n",
       "      <td>...</td>\n",
       "      <td>True</td>\n",
       "      <td>0</td>\n",
       "      <td>1</td>\n",
       "      <td>0</td>\n",
       "      <td>ZipGroup3</td>\n",
       "      <td>0</td>\n",
       "      <td>0</td>\n",
       "      <td>1</td>\n",
       "      <td>0</td>\n",
       "      <td>0</td>\n",
       "    </tr>\n",
       "    <tr>\n",
       "      <th>2</th>\n",
       "      <td>2007-01-29</td>\n",
       "      <td>745000</td>\n",
       "      <td>1200019</td>\n",
       "      <td>Single Family</td>\n",
       "      <td>2007-01-01</td>\n",
       "      <td>425600</td>\n",
       "      <td>0.977941</td>\n",
       "      <td>761805.0</td>\n",
       "      <td>1</td>\n",
       "      <td>26036</td>\n",
       "      <td>...</td>\n",
       "      <td>False</td>\n",
       "      <td>0</td>\n",
       "      <td>1</td>\n",
       "      <td>0</td>\n",
       "      <td>ZipGroup3</td>\n",
       "      <td>0</td>\n",
       "      <td>0</td>\n",
       "      <td>1</td>\n",
       "      <td>0</td>\n",
       "      <td>0</td>\n",
       "    </tr>\n",
       "    <tr>\n",
       "      <th>3</th>\n",
       "      <td>2008-02-25</td>\n",
       "      <td>425000</td>\n",
       "      <td>2800016</td>\n",
       "      <td>Single Family</td>\n",
       "      <td>2008-02-01</td>\n",
       "      <td>418400</td>\n",
       "      <td>0.961397</td>\n",
       "      <td>442065.0</td>\n",
       "      <td>1</td>\n",
       "      <td>8618</td>\n",
       "      <td>...</td>\n",
       "      <td>False</td>\n",
       "      <td>0</td>\n",
       "      <td>1</td>\n",
       "      <td>0</td>\n",
       "      <td>ZipGroup3</td>\n",
       "      <td>0</td>\n",
       "      <td>0</td>\n",
       "      <td>1</td>\n",
       "      <td>0</td>\n",
       "      <td>0</td>\n",
       "    </tr>\n",
       "    <tr>\n",
       "      <th>4</th>\n",
       "      <td>2013-03-29</td>\n",
       "      <td>240000</td>\n",
       "      <td>2800024</td>\n",
       "      <td>Single Family</td>\n",
       "      <td>2013-03-01</td>\n",
       "      <td>351600</td>\n",
       "      <td>0.807904</td>\n",
       "      <td>297065.0</td>\n",
       "      <td>1</td>\n",
       "      <td>8620</td>\n",
       "      <td>...</td>\n",
       "      <td>False</td>\n",
       "      <td>0</td>\n",
       "      <td>1</td>\n",
       "      <td>0</td>\n",
       "      <td>ZipGroup3</td>\n",
       "      <td>0</td>\n",
       "      <td>0</td>\n",
       "      <td>1</td>\n",
       "      <td>0</td>\n",
       "      <td>0</td>\n",
       "    </tr>\n",
       "  </tbody>\n",
       "</table>\n",
       "<p>5 rows × 31 columns</p>\n",
       "</div>"
      ],
      "text/plain": [
       "  DocumentDate  SalePrice  PropertyID   PropertyType          ym  zhvi_px  \\\n",
       "0   2014-09-16     280000     1000102      Multiplex  2014-09-01   405100   \n",
       "1   2006-06-16    1000000     1200013  Single Family  2006-06-01   404400   \n",
       "2   2007-01-29     745000     1200019  Single Family  2007-01-01   425600   \n",
       "3   2008-02-25     425000     2800016  Single Family  2008-02-01   418400   \n",
       "4   2013-03-29     240000     2800024  Single Family  2013-03-01   351600   \n",
       "\n",
       "   zhvi_idx  AdjSalePrice  NbrLivingUnits  SqFtLot  ...  NewConstruction  \\\n",
       "0  0.930836      300805.0               2     9373  ...            False   \n",
       "1  0.929228     1076162.0               1    20156  ...             True   \n",
       "2  0.977941      761805.0               1    26036  ...            False   \n",
       "3  0.961397      442065.0               1     8618  ...            False   \n",
       "4  0.807904      297065.0               1     8620  ...            False   \n",
       "\n",
       "   Multiplex  Single Family  Townhouse   ZipGroup  ZipGroup1  ZipGroup2  \\\n",
       "0          1              0          0  ZipGroup3          0          0   \n",
       "1          0              1          0  ZipGroup3          0          0   \n",
       "2          0              1          0  ZipGroup3          0          0   \n",
       "3          0              1          0  ZipGroup3          0          0   \n",
       "4          0              1          0  ZipGroup3          0          0   \n",
       "\n",
       "   ZipGroup3  ZipGroup4  ZipGroup5  \n",
       "0          1          0          0  \n",
       "1          1          0          0  \n",
       "2          1          0          0  \n",
       "3          1          0          0  \n",
       "4          1          0          0  \n",
       "\n",
       "[5 rows x 31 columns]"
      ]
     },
     "execution_count": 151,
     "metadata": {},
     "output_type": "execute_result"
    }
   ],
   "source": [
    "# Grouping zip codes with residuals\n",
    "zip_house_data = house_data.copy()\n",
    "\n",
    "# get residuals of each prediction results\n",
    "zip_house_data['resid'] = (y - predictions_multiple_linear_regression)\n",
    "\n",
    "# get medians for each ZipCode and sort on median values\n",
    "zip_med = zip_house_data.groupby('ZipCode').resid.median().sort_values()\n",
    "\n",
    "# grouping zipcodes into 5 categories\n",
    "zip_group = pd.qcut(zip_med, 5, labels=['ZipGroup1','ZipGroup2','ZipGroup3','ZipGroup4','ZipGroup5'])\n",
    "zip_group = pd.DataFrame(zip_group)\n",
    "\n",
    "# Left Join based on 'ZipCode'\n",
    "grouped_house_data = pd.merge(house_data, zip_group, how='left', left_on='ZipCode', right_on='ZipCode')\n",
    "grouped_house_data = grouped_house_data.rename(columns={'resid':'ZipGroup'})\n",
    "\n",
    "# One-hot Encoding the ZipCode \n",
    "zip_groups = pd.get_dummies(grouped_house_data['ZipGroup'])\n",
    "grouped_house_data = pd.concat([grouped_house_data, zip_groups], axis=1, sort=False)\n",
    "grouped_house_data.head()"
   ]
  },
  {
   "cell_type": "markdown",
   "metadata": {},
   "source": [
    "### 순서가 있는 범주형 변수\n",
    "\n",
    "* 범주형 변수 중에 등급이나 순서와 같이 의미를 가지는 변수는 수치형 변수로 변형할때 순서에 맞추어 변호해주어야 한다.\n",
    "\n",
    "| 값 | 설명 |\n",
    "|----|----|\n",
    "| 1  | 오두막 | \n",
    "| 2  | 기준 미달 |\n",
    "| ... | ... |\n",
    "| 5  | 적당함 | \n",
    "| ... | ... |\n",
    "| 10 | 매우좋음 |\n",
    "| 12 | 호화로움 | \n",
    "| 13 | 대저택| "
   ]
  },
  {
   "cell_type": "code",
   "execution_count": 23,
   "metadata": {},
   "outputs": [
    {
     "data": {
      "text/plain": [
       "1     7\n",
       "2    10\n",
       "3     8\n",
       "4     7\n",
       "5     7\n",
       "Name: BldgGrade, dtype: int64"
      ]
     },
     "execution_count": 23,
     "metadata": {},
     "output_type": "execute_result"
    }
   ],
   "source": [
    "house_data['BldgGrade'].head(5)"
   ]
  },
  {
   "cell_type": "markdown",
   "metadata": {},
   "source": [
    "## 5. 회귀모델 해석하기\n",
    "\n",
    "* 데이터 과학에서 중요한 것은 종속변수를 예측하는 것이지만, 예측변수와 종속변수간 관계를 이해하기 위해서 회귀모델로부터 통찰을 얻는 경우도 있다.\n",
    "\n",
    "### 예측변수간 상관관계\n",
    "\n",
    "* 다중회귀분석에서 예측변수는 서로간에 영향이 있을 수 있다.\n",
    "\n",
    "* 위에서 수행했던 회귀계수를 아래 코드에서 보면, Bedrooms가 음수이다.  왜 그럴까? \n",
    "\n",
    "  집이 클수록 방수가 증가하는 경향이 있다.  동일한 크기의 집이 있을때 방수가 많아지면 방크기가 작아져서 매매가에 음의 영향을 줄 수 있다.\n",
    " \n",
    "  EDA를 통해서 보게 되면, 방수, 평수, 욕실수 등은 상관관계가 있을 것이다.  이들을 제거 한 후에, 계수를 보면 달라짐을 알 수 있다."
   ]
  },
  {
   "cell_type": "code",
   "execution_count": 24,
   "metadata": {},
   "outputs": [
    {
     "name": "stdout",
     "output_type": "stream",
     "text": [
      "Intercept : -521924.722038\n",
      "SqFtLot : -6.050601e-02\n",
      "SqFtTotLiving : 2.288321e+02\n",
      "Bathrooms : -1.943810e+04\n",
      "Bedrooms : -4.778115e+04\n",
      "BldgGrade : 1.061172e+05\n"
     ]
    }
   ],
   "source": [
    "# Printing coefficients of the Multiple Linear Regression\n",
    "print('Intercept : %f'%lin_reg.intercept_) \n",
    "for idx in range(0, len(features)):\n",
    "    print(features[idx] + ' : %e'%lin_reg.coef_[0][idx])"
   ]
  },
  {
   "cell_type": "code",
   "execution_count": 154,
   "metadata": {},
   "outputs": [
    {
     "name": "stdout",
     "output_type": "stream",
     "text": [
      "Error of Multiple Linear Regression Model is : 260961.0517340946\n",
      "Intercept : -521924.722038\n",
      "Bedrooms : -7.041336e-02\n",
      "BldgGrade : 2.233739e+02\n",
      "Single Family : -1.597313e+04\n",
      "Townhouse : -5.090060e+04\n",
      "YrBuilt : 1.094262e+05\n"
     ]
    }
   ],
   "source": [
    "# From 'Multiplex', 'Single Family', 'Townhouse', added only 'Single Family' and 'Townhouse' for avoiding multilinearity\n",
    "# initiating the object for Linear Regression\n",
    "m_lin_reg = LinearRegression()\n",
    "\n",
    "# Multiple Linear Regression\n",
    "modified_features = ['Bedrooms','BldgGrade', 'Single Family', 'Townhouse', 'YrBuilt']\n",
    "X = np.array(house_data[ohe_features])\n",
    "y = np.array(house_data['AdjSalePrice']).reshape(-1,1)\n",
    "\n",
    "m_lin_reg.fit(X,y)\n",
    "\n",
    "predictions_simple_linear_regression = m_lin_reg.predict(X)\n",
    "\n",
    "print('Error of Multiple Linear Regression Model is :',mean_squared_error(predictions_simple_linear_regression,y)**(0.5))\n",
    "\n",
    "# Printing coefficients of the Multiple Linear Regression\n",
    "print('Intercept : %f'%lin_reg.intercept_) \n",
    "for idx in range(0, len(modified_features)):\n",
    "    print(modified_features[idx] + ' : %e'%m_lin_reg.coef_[0][idx])"
   ]
  },
  {
   "cell_type": "markdown",
   "metadata": {},
   "source": [
    "### 다중공선성(Multicollinearity)\n",
    "\n",
    "* 예측변수 중 일부가 극단적인 상관관계를 보이는 것을 다중공선성이라고 한다.  일반적으로 오류로 인해 한 변수가 여러 번 포함되었거나, 범주형 변수를 인코딩 시 $ p - 1 $개가 아닌 $p$개로 만들거나, 실제로 두 변수가 상관성이 매우 높은 경우 발생한다. \n",
    "\n",
    "* 회귀분석을 하는 경우, 다종공선성은 제대로 된 예측을 할 수 없기 때문에, 반드시 해결해야한다.  다중공선성이 사라질 때 까지 연관된 변수들을 제거해야한다.\n",
    "\n",
    "  (다만, 트리 계열이나 클러스터링, 최근접 이웃 알고리즘 등에서는 문제가 되지 않으며, 범주형 변수의 인코딩 개수도 $p$로 유지하는 것이 좋다.)\n",
    "\n",
    "* 다중공성선의 경우 탐색적 데이터 분석과정에서 Scatter plot 등을 통해서 확인할 수 있다.\n"
   ]
  },
  {
   "cell_type": "markdown",
   "metadata": {},
   "source": [
    "### 교란변수 (Confounder Variable)\n",
    "\n",
    "* 교란변수(또는 혼란변수)는 실제로는 중요한 변수이나 상관관계가 잘 드러나지 않거나, 원데이터에 포함되지 않은 변수를 일컫는다. \n",
    "\n",
    "* 예를 들어, 킹카운티 주택가격에서 주택가격에 **교란변수** 가 빠져있는 경우, 일부 변수(SqFtLot, Bathrooms, Bedrooms)의 계수가 음수가 되는 것을 보았다.  \n",
    "\n",
    "* 우편번호(ZipCode)를 기준으로 지역에 대한 가중치를 1~5까지 부여한 ZipGroup변수를 추가하면, 음수계수들이 양수로 바뀌는 것을 볼 수 있다. (Bedrooms는 여전히 음수이다.  왜냐하면, 좋은 동네에서는 같은 조건에서 방이 많으면 오히려 값어치가 떨어지기 때문이다)"
   ]
  },
  {
   "cell_type": "code",
   "execution_count": 152,
   "metadata": {},
   "outputs": [
    {
     "name": "stdout",
     "output_type": "stream",
     "text": [
      "Error of Linear Regression Model is : 232048.38222701824\n",
      "Intercept : -665438.170814\n",
      "SqFtTotLiving : 2.108199e+02\n",
      "SqFtLot : 4.610750e-01\n",
      "Bathrooms : 5.733886e+03\n",
      "Bedrooms : -4.177387e+04\n",
      "BldgGrade : 9.871896e+04\n",
      "Single Family : 1.918960e+04\n",
      "Townhouse : -7.831023e+04\n",
      "ZipGroup2 : 5.167900e+04\n",
      "ZipGroup3 : 1.140295e+05\n",
      "ZipGroup4 : 1.762335e+05\n",
      "ZipGroup5 : 3.361657e+05\n"
     ]
    }
   ],
   "source": [
    "# initiating the object for Linear Regression\n",
    "con_lin_reg = LinearRegression()\n",
    "\n",
    "# Multiple Linear Regression\n",
    "confounding_features = ['SqFtTotLiving', 'SqFtLot', 'Bathrooms', 'Bedrooms', 'BldgGrade', 'Single Family', 'Townhouse', 'ZipGroup2', 'ZipGroup3', 'ZipGroup4', 'ZipGroup5']\n",
    "X = np.array(grouped_house_data[confounding_features])\n",
    "y = np.array(grouped_house_data['AdjSalePrice']).reshape(-1,1)\n",
    "\n",
    "con_lin_reg.fit(X,y)\n",
    "\n",
    "predictions_con_linear_regression = con_lin_reg.predict(X)\n",
    "\n",
    "print('Error of Linear Regression Model is :',mean_squared_error(predictions_con_linear_regression,y)**(0.5))\n",
    "\n",
    "# Printing coefficients of the Linear Regression with Confounding Variables\n",
    "print('Intercept : %f'%con_lin_reg.intercept_) \n",
    "for idx in range(0, len(confounding_features)):\n",
    "    print(confounding_features[idx] + ' : %e'%con_lin_reg.coef_[0][idx])"
   ]
  },
  {
   "cell_type": "markdown",
   "metadata": {},
   "source": [
    "### 상호작용과 주효과\n",
    "\n",
    "* 주효과는 독립변수가 종속변수에 독립적으로 작용하는 것을 의미하고, 상호작용은 이들 모두에게 작용하는 것을 말한다.\n",
    "\n",
    "* 암묵적으로 독립변수들 사이는 상호 독립적이라는 가정이 있기 마련이지만, 실제로는 상호작용이 종종 발생하기 때문에 이를 간과해서는 안된다.\n",
    "\n",
    "* 선형 회귀에서는 상호작용이 포함되도록 독립변수를 추가해주어야 한다.\n",
    "\n",
    "---\n",
    "> 선형회귀와는 달리 랜덤 포레스트나 부스팅 트리와 같은 트리 모델의 경우에는 자동적으로 상호작용을 걸러낸다. \n",
    "---"
   ]
  },
  {
   "cell_type": "code",
   "execution_count": 155,
   "metadata": {},
   "outputs": [
    {
     "name": "stdout",
     "output_type": "stream",
     "text": [
      "Error of Linear Regression Model is : 217348.59642111862\n",
      "Intercept : -487566.326291\n",
      "SqFtTotLiving : 1.177056e+02\n",
      "SqFtLot : 6.957132e-01\n",
      "Bathrooms : -3.935064e+03\n",
      "Bedrooms : -4.196003e+04\n",
      "BldgGrade : 1.048301e+05\n",
      "Single Family : 1.339153e+04\n",
      "Townhouse : -5.883474e+04\n",
      "ZipGroup2 : -1.311497e+04\n",
      "ZipGroup3 : 2.263524e+04\n",
      "ZipGroup4 : 2.262161e+04\n",
      "ZipGroup5 : -1.475744e+05\n",
      "SqFtTotLiving-ZipGroup2 : 3.148892e+01\n",
      "SqFtTotLiving-ZipGroup3 : 3.891098e+01\n",
      "SqFtTotLiving-ZipGroup4 : 6.659506e+01\n",
      "SqFtTotLiving-ZipGroup5 : 2.238079e+02\n"
     ]
    }
   ],
   "source": [
    "# initiating the object for Linear Regression\n",
    "inter_lin_reg = LinearRegression()\n",
    "\n",
    "# Adding interaction terms between SqFtTotLiving and ZipGroup2~5\n",
    "grouped_house_data['SqFtTotLiving-ZipGroup2'] = grouped_house_data['SqFtTotLiving'] * grouped_house_data['ZipGroup2']\n",
    "grouped_house_data['SqFtTotLiving-ZipGroup3'] = grouped_house_data['SqFtTotLiving'] * grouped_house_data['ZipGroup3']\n",
    "grouped_house_data['SqFtTotLiving-ZipGroup4'] = grouped_house_data['SqFtTotLiving'] * grouped_house_data['ZipGroup4']\n",
    "grouped_house_data['SqFtTotLiving-ZipGroup5'] = grouped_house_data['SqFtTotLiving'] * grouped_house_data['ZipGroup5']\n",
    "\n",
    "# Multiple Linear Regression\n",
    "inter_features = ['SqFtTotLiving', 'SqFtLot', 'Bathrooms', 'Bedrooms', 'BldgGrade', 'Single Family', 'Townhouse', 'ZipGroup2', 'ZipGroup3', 'ZipGroup4', 'ZipGroup5', 'SqFtTotLiving-ZipGroup2', 'SqFtTotLiving-ZipGroup3', 'SqFtTotLiving-ZipGroup4', 'SqFtTotLiving-ZipGroup5']   \n",
    "X = np.array(grouped_house_data[inter_features])\n",
    "y = np.array(grouped_house_data['AdjSalePrice']).reshape(-1,1)\n",
    "\n",
    "inter_lin_reg.fit(X,y)\n",
    "\n",
    "predictions_inter_linear_regression = inter_lin_reg.predict(X)\n",
    "\n",
    "print('Error of Linear Regression Model is :',mean_squared_error(predictions_inter_linear_regression,y)**(0.5))\n",
    "\n",
    "# Printing coefficients of the Linear Regression with Confounding Variables\n",
    "print('Intercept : %f'%inter_lin_reg.intercept_) \n",
    "for idx in range(0, len(inter_features)):\n",
    "    print(inter_features[idx] + ' : %e'%inter_lin_reg.coef_[0][idx])"
   ]
  },
  {
   "cell_type": "markdown",
   "metadata": {},
   "source": [
    "# 6. 가정검정: 회귀 진단"
   ]
  }
 ],
 "metadata": {
  "kernelspec": {
   "display_name": "Python 3",
   "language": "python",
   "name": "python3"
  },
  "language_info": {
   "codemirror_mode": {
    "name": "ipython",
    "version": 3
   },
   "file_extension": ".py",
   "mimetype": "text/x-python",
   "name": "python",
   "nbconvert_exporter": "python",
   "pygments_lexer": "ipython3",
   "version": "3.6.8"
  }
 },
 "nbformat": 4,
 "nbformat_minor": 2
}
