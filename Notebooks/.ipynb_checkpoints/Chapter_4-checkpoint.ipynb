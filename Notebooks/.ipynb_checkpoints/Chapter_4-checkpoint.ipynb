{
 "cells": [
  {
   "cell_type": "markdown",
   "metadata": {},
   "source": [
    "# Regression and Prediction\n",
    "\n",
    "## Contents of this Chapter:\n",
    "\n",
    "### Main Sub-titles\n",
    "\n",
    "1. 단순 선형 회귀\n",
    "2. 다중 선형 회귀\n",
    "3. 회귀를 이용한 예측\n",
    "4. 회귀에서의 요인변수(범주형 변수)\n",
    "5. 회귀방정식(모델) 해석하기\n",
    "6. 가정들을 검증하기: 회귀 진단\n",
    "7. 다항 회귀와 스플라인 회귀: 비선형 회귀 다루기\n",
    "\n",
    "### 들어가면서\n",
    "\n",
    "통계학에서 일반적인 목표 중에 하나가 바로**예측**임\n"
   ]
  },
  {
   "cell_type": "code",
   "execution_count": 89,
   "metadata": {},
   "outputs": [
    {
     "name": "stderr",
     "output_type": "stream",
     "text": [
      "/Users/pushkarajjoshi/anaconda3/envs/datascience/lib/python3.6/site-packages/sklearn/ensemble/weight_boosting.py:29: DeprecationWarning: numpy.core.umath_tests is an internal NumPy module and should not be imported. It will be removed in a future NumPy release.\n",
      "  from numpy.core.umath_tests import inner1d\n"
     ]
    }
   ],
   "source": [
    "import pandas as pd\n",
    "import numpy as np\n",
    "\n",
    "from sklearn.linear_model import LinearRegression\n",
    "from sklearn.metrics import mean_squared_error\n",
    "from sklearn.ensemble import RandomForestRegressor\n",
    "from sklearn.model_selection import GridSearchCV\n",
    "import matplotlib.pyplot as plt\n",
    "%matplotlib inline"
   ]
  },
  {
   "cell_type": "markdown",
   "metadata": {},
   "source": [
    "## 1. Simple Linear Regression:\n",
    "* 단순 선형 회귀는 한 변수와 또 다른 변수의 크기 사이의 어떤 관계를 모델링한다. 1장에서 다룬 상관관계 역시 그 방법 중 하나이다.  \n",
    "\n",
    "* 상관관계는 두 변수 사이의 관련 강도를 측정이라면, 회귀는 관계 자체를 정량화 하는 것이다.\n",
    "\n",
    "* 기본적인 선형 회귀의 수식은 다음과 같다: $ Y_i = \\beta_0 + \\beta_1 X_i $\n",
    "\n",
    "    -  $ \\beta_0 $ 는 절편\n",
    "    -  $ \\beta_1 $ 는 기울기\n",
    "    -  $ Y_i $ 는 응답변수 또는 종속변수 (머신러닝에서는 목표)\n",
    "    -  $ X_i $ 는 예측변수 또는 독립변수 (머신러닝에서는 피처)    "
   ]
  },
  {
   "cell_type": "code",
   "execution_count": 25,
   "metadata": {
    "collapsed": true
   },
   "outputs": [],
   "source": [
    "lung_data = pd.read_csv('../data/LungDisease.csv')"
   ]
  },
  {
   "cell_type": "code",
   "execution_count": 29,
   "metadata": {},
   "outputs": [
    {
     "data": {
      "image/png": "[encoded data removed]",
      "text/plain": [
       "<matplotlib.figure.Figure at 0x117cdd2e8>"
      ]
     },
     "metadata": {},
     "output_type": "display_data"
    }
   ],
   "source": [
    "plt.scatter(lung_data['Exposure'],lung_data['PEFR'])\n",
    "plt.xlabel('Exposure')\n",
    "plt.ylabel('PEFR')\n",
    "plt.show()"
   ]
  },
  {
   "cell_type": "markdown",
   "metadata": {},
   "source": []
  },
  {
   "cell_type": "markdown",
   "metadata": {},
   "source": [
    "- Simple regression aims to find the best line which predicts PEFR wrt Exposure"
   ]
  },
  {
   "cell_type": "code",
   "execution_count": 74,
   "metadata": {
    "collapsed": true
   },
   "outputs": [],
   "source": [
    "# initializing the input variables\n",
    "\n",
    "X = np.array(lung_data['Exposure']).reshape(-1,1)\n",
    "y = np.array(lung_data['PEFR']).reshape(-1,1)\n",
    "\n",
    "# initiating the object for Linear Regression\n",
    "lin_reg = LinearRegression()"
   ]
  },
  {
   "cell_type": "code",
   "execution_count": 69,
   "metadata": {},
   "outputs": [
    {
     "data": {
      "image/png": "[encoded data removed]",
      "text/plain": [
       "<matplotlib.figure.Figure at 0x1a24eafb38>"
      ]
     },
     "metadata": {},
     "output_type": "display_data"
    },
    {
     "name": "stdout",
     "output_type": "stream",
     "text": [
      "-----------------------------------------------------\n",
      "\n",
      "The main variables in the linear regression are:\n",
      "\n",
      "The Coefficient(b1) : [[-4.18457649]]\n",
      "The Intercept(b0) : [424.58280657]\n"
     ]
    }
   ],
   "source": [
    "lin_reg.fit(X,y)\n",
    "predictions = lin_reg.predict( X_arr )\n",
    "\n",
    "plt.scatter(lung_data['Exposure'], lung_data['PEFR'] )\n",
    "plt.plot(X_arr,predictions)\n",
    "plt.xlabel('Exposure')\n",
    "plt.ylabel('PEFR')\n",
    "plt.title('Linear Regression Fitted Line')\n",
    "plt.show()\n",
    "\n",
    "print('-----------------------------------------------------\\n')\n",
    "\n",
    "print('The main variables in the linear regression are:\\n')\n",
    "print('The Coefficient(b1) :',lin_reg.coef_)\n",
    "print('The Intercept(b0) :',lin_reg.intercept_)"
   ]
  },
  {
   "cell_type": "code",
   "execution_count": 73,
   "metadata": {
    "collapsed": true
   },
   "outputs": [],
   "source": [
    "# The error of the model will be:\n",
    "# the idea is to reduce this error:\n",
    "\n",
    "res_error = predictions"
   ]
  },
  {
   "cell_type": "markdown",
   "metadata": {},
   "source": [
    "### How to find b0 and b1?\n",
    "\n",
    "The formula for finding b0 and b1 are called as the Ordinary Least Squares method\n",
    "\n",
    "$ \\hat{\\beta}_1 = \\frac{\\sum(X_i – \\bar{X}) (Y_i – \\bar{Y})} {\\sum(X_i – \\bar{X})^2} $ \n",
    "\n",
    "$ \\hat{\\beta}_0 = \\bar{Y} – \\hat{\\beta}_1 \\bar{X} $\n",
    "\n",
    "- Where $ \\bar{X} $ is the mean of the predictor variable\n",
    "- Where $ \\bar{Y} $ is the mean of the response variable"
   ]
  },
  {
   "cell_type": "markdown",
   "metadata": {},
   "source": [
    "## 2. Multiple Linear Regression.\n",
    "\n",
    "- To improve the accuracy of our model, we may have to use other variables in the data-set. By including the other important data-points, we should be improve the accuracy of the models. For this to happen, we need to expand our knowledge."
   ]
  },
  {
   "cell_type": "code",
   "execution_count": 77,
   "metadata": {
    "collapsed": true
   },
   "outputs": [],
   "source": [
    "house_data = pd.read_csv('../data/house_sales.csv',sep='\\t')"
   ]
  },
  {
   "cell_type": "code",
   "execution_count": 84,
   "metadata": {},
   "outputs": [
    {
     "data": {
      "text/plain": [
       "381769.33881840616"
      ]
     },
     "execution_count": 84,
     "metadata": {},
     "output_type": "execute_result"
    }
   ],
   "source": [
    "# Simple Linear Regression\n",
    "X = np.array(house_data['SqFtLot']).reshape(-1,1)\n",
    "y = np.array(house_data['AdjSalePrice']).reshape(-1,1)\n",
    "\n",
    "lin_reg.fit(X,y )\n",
    "\n",
    "predictions_simple_linear_regression = lin_reg.predict(X)\n",
    "\n",
    "print('Error of Simple Linear Regression Model is :',mean_squared_error(predictions_simple_linear_regression,y)**(0.5))"
   ]
  },
  {
   "cell_type": "code",
   "execution_count": 88,
   "metadata": {},
   "outputs": [
    {
     "name": "stdout",
     "output_type": "stream",
     "text": [
      "Error of Simple Linear Regression Model is : 261209.6915601493\n"
     ]
    }
   ],
   "source": [
    "# Multiple Linear Regression\n",
    "X = np.array(house_data[['SqFtLot','SqFtTotLiving','Bathrooms','Bedrooms','BldgGrade']])\n",
    "y = np.array(house_data['AdjSalePrice']).reshape(-1,1)\n",
    "\n",
    "lin_reg.fit(X,y)\n",
    "\n",
    "predictions_simple_linear_regression = lin_reg.predict(X)\n",
    "\n",
    "print('Error of Simple Linear Regression Model is :',mean_squared_error(predictions_simple_linear_regression,y)**(0.5))"
   ]
  },
  {
   "cell_type": "code",
   "execution_count": null,
   "metadata": {
    "collapsed": true
   },
   "outputs": [],
   "source": []
  }
 ],
 "metadata": {
  "kernelspec": {
   "display_name": "Python 3",
   "language": "python",
   "name": "python3"
  },
  "language_info": {
   "codemirror_mode": {
    "name": "ipython",
    "version": 3
   },
   "file_extension": ".py",
   "mimetype": "text/x-python",
   "name": "python",
   "nbconvert_exporter": "python",
   "pygments_lexer": "ipython3",
   "version": "3.6.8"
  }
 },
 "nbformat": 4,
 "nbformat_minor": 2
}
